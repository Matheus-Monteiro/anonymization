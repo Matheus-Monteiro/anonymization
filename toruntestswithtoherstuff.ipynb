{
 "cells": [
  {
   "cell_type": "code",
   "execution_count": 1,
   "metadata": {},
   "outputs": [],
   "source": [
    "import time\n",
    "from datetime import timedelta\n",
    "import numpy as np\n",
    "import pandas as pd\n",
    "import scipy.linalg as la\n",
    "import matplotlib.pyplot as plt\n",
    "from tqdm import tqdm\n",
    "\n",
    "from joblib import Parallel, delayed\n",
    "from sklearn import svm, model_selection\n",
    "from sklearn.model_selection import train_test_split, StratifiedKFold\n",
    "from sklearn.metrics import accuracy_score, precision_score, confusion_matrix, ConfusionMatrixDisplay\n",
    "from sklearn.neighbors import KNeighborsClassifier\n",
    "from sklearn.tree import DecisionTreeClassifier\n",
    "from sklearn.ensemble import RandomForestClassifier\n",
    "from sklearn.naive_bayes import GaussianNB\n",
    "from sklearn.metrics import classification_report\n",
    "from sklearn.metrics import make_scorer, accuracy_score, precision_score, recall_score, f1_score\n",
    "from sklearn.pipeline import make_pipeline\n",
    "from sklearn.model_selection import KFold\n",
    "from sklearn.preprocessing import MinMaxScaler\n",
    "from sklearn.preprocessing import StandardScaler\n",
    "from sklearn.metrics import pairwise_distances_argmin\n",
    "from sklearn.cluster import KMeans"
   ]
  },
  {
   "cell_type": "code",
   "execution_count": 2,
   "metadata": {},
   "outputs": [],
   "source": [
    "np.random.seed(7)"
   ]
  },
  {
   "attachments": {},
   "cell_type": "markdown",
   "metadata": {},
   "source": [
    "Anonimization algorithm"
   ]
  },
  {
   "cell_type": "code",
   "execution_count": 3,
   "metadata": {},
   "outputs": [],
   "source": [
    "def anonimization(data):\n",
    "    #calculate the mean of each column\n",
    "    mean = np.array(np.mean(data, axis=0).T)\n",
    "\n",
    "    # center data\n",
    "    data_centered = data - mean\n",
    "\n",
    "    # calculate the covariance matrix\n",
    "    cov_matrix = np.cov(data_centered, rowvar=False)\n",
    "   \n",
    "    # calculate the eignvalues and eignvectors\n",
    "    evals, evecs = la.eigh(cov_matrix)\n",
    "\n",
    "    # sort them\n",
    "    idx = np.argsort(evals)[::-1]\n",
    "\n",
    "    # Each columns of this matrix is an eingvector\n",
    "    evecs = evecs[:,idx]\n",
    "    evals = evals[idx]\n",
    "\n",
    "    # explained variance\n",
    "    variance_retained=np.cumsum(evals)/np.sum(evals)\n",
    "\n",
    "    # calculate the transformed data\n",
    "    data_transformed=np.dot(evecs.T, data_centered.T).T\n",
    "\n",
    "    # randomize eignvectors\n",
    "    new_evecs = evecs.copy().T\n",
    "    for i in range(len(new_evecs)):\n",
    "        np.random.shuffle(new_evecs[i])\n",
    "    new_evecs = np.array(new_evecs).T\n",
    "\n",
    "    # go back to the original dimension\n",
    "    data_original_dimension = np.dot(data_transformed, new_evecs.T) \n",
    "    data_original_dimension += mean\n",
    "\n",
    "    return data_original_dimension"
   ]
  },
  {
   "attachments": {},
   "cell_type": "markdown",
   "metadata": {},
   "source": [
    "Clusterization Algorithms\n"
   ]
  },
  {
   "cell_type": "code",
   "execution_count": 4,
   "metadata": {},
   "outputs": [],
   "source": [
    "def find_clusters(X, k):   \n",
    "    Kmean = KMeans(n_clusters=k)\n",
    "    Kmean.fit(X)\n",
    "    return Kmean.labels_"
   ]
  },
  {
   "cell_type": "code",
   "execution_count": 5,
   "metadata": {},
   "outputs": [],
   "source": [
    "def anonimization_clustering(data, y, k):\n",
    "    # generate K data clusters\n",
    "    clusters = find_clusters(data, k)\n",
    "\n",
    "    # bucketize the index of each cluster\n",
    "    indices = dict()\n",
    "    for i in range(len(clusters)):\n",
    "        if clusters[i] not in indices.keys():\n",
    "            indices[ clusters[i] ] = []    \n",
    "        indices[ clusters[i] ].append(i)\n",
    "\n",
    "    data_anonymized, y_in_new_order = None, None\n",
    "\n",
    "    # anonymize each cluster individually\n",
    "    for k in indices.keys():\n",
    "        if data_anonymized is None and y_in_new_order is None:\n",
    "            data_anonymized = anonimization(data[ indices[k] ])\n",
    "            y_in_new_order = y[ indices[k] ]\n",
    "            empty_flag = False\n",
    "        else:\n",
    "            data_anonymized = np.concatenate((data_anonymized, anonimization(data[ indices[k] ]) ), axis=0)\n",
    "            y_in_new_order = np.concatenate((y_in_new_order, y[ indices[k] ]), axis=0)\n",
    "\n",
    "    # data_anonymized = np.concatenate((data_anonymized, np.array([y_in_new_order]).T), axis=1)\n",
    "    # print(pd.DataFrame(data_anonymized))\n",
    "\n",
    "    return data_anonymized, y_in_new_order"
   ]
  },
  {
   "attachments": {},
   "cell_type": "markdown",
   "metadata": {},
   "source": [
    "Cross Validation"
   ]
  },
  {
   "cell_type": "code",
   "execution_count": 6,
   "metadata": {},
   "outputs": [],
   "source": [
    "def cross_validate_k_fold(X, y, anon_training, anon_test, model, model_name, n_clusters):\n",
    "    kf = StratifiedKFold(n_splits=3)\n",
    "    scaler = StandardScaler()\n",
    "\n",
    "    accuracy, precision, recall, f1 = [], [], [], []\n",
    "\n",
    "    for train_index, test_index in kf.split(X, y):\n",
    "        X_train, X_test = X[train_index], X[test_index]\n",
    "        y_train, y_test = y[train_index], y[test_index]\n",
    "\n",
    "        if anon_training == True:\n",
    "            X_train, y_train = anonimization_clustering(X_train, y_train, n_clusters)\n",
    "\n",
    "        if anon_test == True:\n",
    "            X_test, y_test = anonimization_clustering(X_test, y_test, n_clusters)\n",
    "\n",
    "        scaler.fit(X_train)\n",
    "        scaler.fit(X_test)\n",
    "            \n",
    "        model.fit(X_train,y_train)\n",
    "\n",
    "        y_pred = model.predict(X_test)\n",
    "\n",
    "        accuracy.append(accuracy_score(y_test, y_pred))\n",
    "        precision.append(precision_score(y_test, y_pred))\n",
    "        recall.append(recall_score(y_test, y_pred))\n",
    "        f1.append(f1_score(y_test, y_pred))\n",
    "\n",
    "    results = {'accuracy' : np.array(accuracy), \n",
    "           'precision' : np.array(precision),\n",
    "           'recall' : np.array(recall), \n",
    "           'f1_score' : np.array(f1)}\n",
    "\n",
    "    print(model_name, anon_training, anon_test)\n",
    "    for k in results.keys():\n",
    "        if k != 'fit_time' and k != 'score_time':\n",
    "            print(k, '---> mean:', results[k].mean(), ' |  std:', results[k].std())\n",
    "\n",
    "    return [ anon_training, anon_test, results['accuracy'].mean(), results['precision'].mean(), results['recall'].mean(), results['f1_score'].mean() ]"
   ]
  },
  {
   "attachments": {},
   "cell_type": "markdown",
   "metadata": {},
   "source": [
    "Read data"
   ]
  },
  {
   "cell_type": "code",
   "execution_count": 7,
   "metadata": {},
   "outputs": [
    {
     "name": "stdout",
     "output_type": "stream",
     "text": [
      "(100000, 79)\n"
     ]
    }
   ],
   "source": [
    "dataset = pd.read_csv('df_original_100000.csv')\n",
    "# dataset = pd.DataFrame([[71, 29, 33, 1], [75, 19, 43, 1], [7, 9, 3, 1], [13, 21, 7, 0], [3, 2, 17, 1]])\n",
    "# dataset.columns = ['A', 'B', 'C', 'Label']\n",
    "# print(dataset)\n",
    "# dataset = anonimization(dataset)\n",
    "\n",
    "# print(dataset)\n",
    "\n",
    "y = np.array(dataset['Label'])\n",
    "del dataset['Label']\n",
    "X = np.array(dataset)\n",
    "\n",
    "print(X.shape)"
   ]
  },
  {
   "cell_type": "code",
   "execution_count": 8,
   "metadata": {},
   "outputs": [],
   "source": [
    "def get_results(model, X, y, model_name, n_clusters):\n",
    "    bol = [True, False]\n",
    "    results = pd.DataFrame(columns=['anonymized train', 'anonymized test' , 'accuracy', 'precision', 'recall', 'f1_score'])\n",
    "    for i in range(0, 2):\n",
    "        for j in range(0, 2):\n",
    "            new_df = pd.DataFrame([cross_validate_k_fold(X, y, bol[i], bol[j], model, model_name, n_clusters)], columns=results.columns)\n",
    "            results = pd.concat([results, new_df], ignore_index=True)\n",
    "\n",
    "    for i in range(2, len(results.columns)):\n",
    "        col_name = results.columns[i]\n",
    "        results[col_name] = results[col_name].apply(lambda row:\"{:.3%}\".format(float(row)))\n",
    "\n",
    "    return results"
   ]
  },
  {
   "cell_type": "code",
   "execution_count": 9,
   "metadata": {},
   "outputs": [],
   "source": [
    "# cross_validate_k_fold_knn(X, y, True, True)\n",
    "# cross_validate_k_fold_knn(X, y, True, False)\n",
    "# cross_validate_k_fold_knn(X, y, False, True)\n",
    "# cross_validate_k_fold_knn(X, y, False, False)"
   ]
  },
  {
   "cell_type": "code",
   "execution_count": 10,
   "metadata": {},
   "outputs": [
    {
     "name": "stderr",
     "output_type": "stream",
     "text": [
      "/opt/homebrew/lib/python3.11/site-packages/sklearn/cluster/_kmeans.py:870: FutureWarning: The default value of `n_init` will change from 10 to 'auto' in 1.4. Set the value of `n_init` explicitly to suppress the warning\n",
      "  warnings.warn(\n",
      "/opt/homebrew/lib/python3.11/site-packages/sklearn/cluster/_kmeans.py:870: FutureWarning: The default value of `n_init` will change from 10 to 'auto' in 1.4. Set the value of `n_init` explicitly to suppress the warning\n",
      "  warnings.warn(\n",
      "/opt/homebrew/lib/python3.11/site-packages/sklearn/cluster/_kmeans.py:870: FutureWarning: The default value of `n_init` will change from 10 to 'auto' in 1.4. Set the value of `n_init` explicitly to suppress the warning\n",
      "  warnings.warn(\n",
      "/opt/homebrew/lib/python3.11/site-packages/sklearn/cluster/_kmeans.py:870: FutureWarning: The default value of `n_init` will change from 10 to 'auto' in 1.4. Set the value of `n_init` explicitly to suppress the warning\n",
      "  warnings.warn(\n",
      "/opt/homebrew/lib/python3.11/site-packages/sklearn/cluster/_kmeans.py:870: FutureWarning: The default value of `n_init` will change from 10 to 'auto' in 1.4. Set the value of `n_init` explicitly to suppress the warning\n",
      "  warnings.warn(\n",
      "/opt/homebrew/lib/python3.11/site-packages/sklearn/cluster/_kmeans.py:870: FutureWarning: The default value of `n_init` will change from 10 to 'auto' in 1.4. Set the value of `n_init` explicitly to suppress the warning\n",
      "  warnings.warn(\n"
     ]
    },
    {
     "name": "stdout",
     "output_type": "stream",
     "text": [
      "KNN True True\n",
      "accuracy ---> mean: 0.7416797390509454  |  std: 0.04459695912898772\n",
      "precision ---> mean: 0.6749383140961692  |  std: 0.04241488366069623\n",
      "recall ---> mean: 0.9450402207604475  |  std: 0.009540616579889616\n",
      "f1_score ---> mean: 0.7864925648321469  |  std: 0.027087184013988828\n"
     ]
    },
    {
     "name": "stderr",
     "output_type": "stream",
     "text": [
      "/opt/homebrew/lib/python3.11/site-packages/sklearn/cluster/_kmeans.py:870: FutureWarning: The default value of `n_init` will change from 10 to 'auto' in 1.4. Set the value of `n_init` explicitly to suppress the warning\n",
      "  warnings.warn(\n",
      "/opt/homebrew/lib/python3.11/site-packages/sklearn/cluster/_kmeans.py:870: FutureWarning: The default value of `n_init` will change from 10 to 'auto' in 1.4. Set the value of `n_init` explicitly to suppress the warning\n",
      "  warnings.warn(\n",
      "/opt/homebrew/lib/python3.11/site-packages/sklearn/cluster/_kmeans.py:870: FutureWarning: The default value of `n_init` will change from 10 to 'auto' in 1.4. Set the value of `n_init` explicitly to suppress the warning\n",
      "  warnings.warn(\n"
     ]
    },
    {
     "name": "stdout",
     "output_type": "stream",
     "text": [
      "KNN True False\n",
      "accuracy ---> mean: 0.7755500726543835  |  std: 0.005153314511514292\n",
      "precision ---> mean: 0.7064881453272092  |  std: 0.0035046500687878693\n",
      "recall ---> mean: 0.9427600959561272  |  std: 0.006326352218465132\n",
      "f1_score ---> mean: 0.8076992866370057  |  std: 0.004610872502751813\n"
     ]
    },
    {
     "name": "stderr",
     "output_type": "stream",
     "text": [
      "/opt/homebrew/lib/python3.11/site-packages/sklearn/cluster/_kmeans.py:870: FutureWarning: The default value of `n_init` will change from 10 to 'auto' in 1.4. Set the value of `n_init` explicitly to suppress the warning\n",
      "  warnings.warn(\n",
      "/opt/homebrew/lib/python3.11/site-packages/sklearn/cluster/_kmeans.py:870: FutureWarning: The default value of `n_init` will change from 10 to 'auto' in 1.4. Set the value of `n_init` explicitly to suppress the warning\n",
      "  warnings.warn(\n",
      "/opt/homebrew/lib/python3.11/site-packages/sklearn/cluster/_kmeans.py:870: FutureWarning: The default value of `n_init` will change from 10 to 'auto' in 1.4. Set the value of `n_init` explicitly to suppress the warning\n",
      "  warnings.warn(\n"
     ]
    },
    {
     "name": "stdout",
     "output_type": "stream",
     "text": [
      "KNN False True\n",
      "accuracy ---> mean: 0.7873198627588364  |  std: 0.009784493659131208\n",
      "precision ---> mean: 0.7115239572831635  |  std: 0.002937176879201799\n",
      "recall ---> mean: 0.9662997175673911  |  std: 0.023444953077220738\n",
      "f1_score ---> mean: 0.8194873262664583  |  std: 0.010306664199726185\n",
      "KNN False False\n",
      "accuracy ---> mean: 0.999990000199996  |  std: 1.4141852786687718e-05\n",
      "precision ---> mean: 1.0  |  std: 0.0\n",
      "recall ---> mean: 0.9999800003999919  |  std: 2.8283705573375435e-05\n",
      "f1_score ---> mean: 0.999989999899999  |  std: 1.4142277046499948e-05\n"
     ]
    },
    {
     "data": {
      "text/html": [
       "<div>\n",
       "<style scoped>\n",
       "    .dataframe tbody tr th:only-of-type {\n",
       "        vertical-align: middle;\n",
       "    }\n",
       "\n",
       "    .dataframe tbody tr th {\n",
       "        vertical-align: top;\n",
       "    }\n",
       "\n",
       "    .dataframe thead th {\n",
       "        text-align: right;\n",
       "    }\n",
       "</style>\n",
       "<table border=\"1\" class=\"dataframe\">\n",
       "  <thead>\n",
       "    <tr style=\"text-align: right;\">\n",
       "      <th></th>\n",
       "      <th>anonymized train</th>\n",
       "      <th>anonymized test</th>\n",
       "      <th>accuracy</th>\n",
       "      <th>precision</th>\n",
       "      <th>recall</th>\n",
       "      <th>f1_score</th>\n",
       "    </tr>\n",
       "  </thead>\n",
       "  <tbody>\n",
       "    <tr>\n",
       "      <th>0</th>\n",
       "      <td>True</td>\n",
       "      <td>True</td>\n",
       "      <td>74.168%</td>\n",
       "      <td>67.494%</td>\n",
       "      <td>94.504%</td>\n",
       "      <td>78.649%</td>\n",
       "    </tr>\n",
       "    <tr>\n",
       "      <th>1</th>\n",
       "      <td>True</td>\n",
       "      <td>False</td>\n",
       "      <td>77.555%</td>\n",
       "      <td>70.649%</td>\n",
       "      <td>94.276%</td>\n",
       "      <td>80.770%</td>\n",
       "    </tr>\n",
       "    <tr>\n",
       "      <th>2</th>\n",
       "      <td>False</td>\n",
       "      <td>True</td>\n",
       "      <td>78.732%</td>\n",
       "      <td>71.152%</td>\n",
       "      <td>96.630%</td>\n",
       "      <td>81.949%</td>\n",
       "    </tr>\n",
       "    <tr>\n",
       "      <th>3</th>\n",
       "      <td>False</td>\n",
       "      <td>False</td>\n",
       "      <td>99.999%</td>\n",
       "      <td>100.000%</td>\n",
       "      <td>99.998%</td>\n",
       "      <td>99.999%</td>\n",
       "    </tr>\n",
       "  </tbody>\n",
       "</table>\n",
       "</div>"
      ],
      "text/plain": [
       "  anonymized train anonymized test accuracy precision   recall f1_score\n",
       "0             True            True  74.168%   67.494%  94.504%  78.649%\n",
       "1             True           False  77.555%   70.649%  94.276%  80.770%\n",
       "2            False            True  78.732%   71.152%  96.630%  81.949%\n",
       "3            False           False  99.999%  100.000%  99.998%  99.999%"
      ]
     },
     "execution_count": 10,
     "metadata": {},
     "output_type": "execute_result"
    }
   ],
   "source": [
    "results_knn = get_results(KNeighborsClassifier(n_neighbors=5), X, y, 'KNN', 3)\n",
    "results_knn"
   ]
  },
  {
   "cell_type": "code",
   "execution_count": 11,
   "metadata": {},
   "outputs": [
    {
     "name": "stderr",
     "output_type": "stream",
     "text": [
      "/opt/homebrew/lib/python3.11/site-packages/sklearn/cluster/_kmeans.py:870: FutureWarning: The default value of `n_init` will change from 10 to 'auto' in 1.4. Set the value of `n_init` explicitly to suppress the warning\n",
      "  warnings.warn(\n",
      "/opt/homebrew/lib/python3.11/site-packages/sklearn/cluster/_kmeans.py:870: FutureWarning: The default value of `n_init` will change from 10 to 'auto' in 1.4. Set the value of `n_init` explicitly to suppress the warning\n",
      "  warnings.warn(\n",
      "/opt/homebrew/lib/python3.11/site-packages/sklearn/cluster/_kmeans.py:870: FutureWarning: The default value of `n_init` will change from 10 to 'auto' in 1.4. Set the value of `n_init` explicitly to suppress the warning\n",
      "  warnings.warn(\n",
      "/opt/homebrew/lib/python3.11/site-packages/sklearn/cluster/_kmeans.py:870: FutureWarning: The default value of `n_init` will change from 10 to 'auto' in 1.4. Set the value of `n_init` explicitly to suppress the warning\n",
      "  warnings.warn(\n",
      "/opt/homebrew/lib/python3.11/site-packages/sklearn/cluster/_kmeans.py:870: FutureWarning: The default value of `n_init` will change from 10 to 'auto' in 1.4. Set the value of `n_init` explicitly to suppress the warning\n",
      "  warnings.warn(\n",
      "/opt/homebrew/lib/python3.11/site-packages/sklearn/cluster/_kmeans.py:870: FutureWarning: The default value of `n_init` will change from 10 to 'auto' in 1.4. Set the value of `n_init` explicitly to suppress the warning\n",
      "  warnings.warn(\n"
     ]
    },
    {
     "name": "stdout",
     "output_type": "stream",
     "text": [
      "Decision Tree True True\n",
      "accuracy ---> mean: 0.619630790416022  |  std: 0.16317337657250375\n",
      "precision ---> mean: 0.6272677695430229  |  std: 0.12880562637224313\n",
      "recall ---> mean: 0.6984644442476565  |  std: 0.32171218771837923\n",
      "f1_score ---> mean: 0.6135057450384848  |  std: 0.20973543117445076\n"
     ]
    },
    {
     "name": "stderr",
     "output_type": "stream",
     "text": [
      "/opt/homebrew/lib/python3.11/site-packages/sklearn/cluster/_kmeans.py:870: FutureWarning: The default value of `n_init` will change from 10 to 'auto' in 1.4. Set the value of `n_init` explicitly to suppress the warning\n",
      "  warnings.warn(\n",
      "/opt/homebrew/lib/python3.11/site-packages/sklearn/cluster/_kmeans.py:870: FutureWarning: The default value of `n_init` will change from 10 to 'auto' in 1.4. Set the value of `n_init` explicitly to suppress the warning\n",
      "  warnings.warn(\n",
      "/opt/homebrew/lib/python3.11/site-packages/sklearn/cluster/_kmeans.py:870: FutureWarning: The default value of `n_init` will change from 10 to 'auto' in 1.4. Set the value of `n_init` explicitly to suppress the warning\n",
      "  warnings.warn(\n"
     ]
    },
    {
     "name": "stdout",
     "output_type": "stream",
     "text": [
      "Decision Tree True False\n",
      "accuracy ---> mean: 0.5898915712022662  |  std: 0.18397478692102595\n",
      "precision ---> mean: 0.6082751294474873  |  std: 0.18861008674495922\n",
      "recall ---> mean: 0.8312396394577809  |  std: 0.11293060402905283\n",
      "f1_score ---> mean: 0.6842094252148532  |  std: 0.11964972974416459\n"
     ]
    },
    {
     "name": "stderr",
     "output_type": "stream",
     "text": [
      "/opt/homebrew/lib/python3.11/site-packages/sklearn/cluster/_kmeans.py:870: FutureWarning: The default value of `n_init` will change from 10 to 'auto' in 1.4. Set the value of `n_init` explicitly to suppress the warning\n",
      "  warnings.warn(\n",
      "/opt/homebrew/lib/python3.11/site-packages/sklearn/cluster/_kmeans.py:870: FutureWarning: The default value of `n_init` will change from 10 to 'auto' in 1.4. Set the value of `n_init` explicitly to suppress the warning\n",
      "  warnings.warn(\n",
      "/opt/homebrew/lib/python3.11/site-packages/sklearn/cluster/_kmeans.py:870: FutureWarning: The default value of `n_init` will change from 10 to 'auto' in 1.4. Set the value of `n_init` explicitly to suppress the warning\n",
      "  warnings.warn(\n"
     ]
    },
    {
     "name": "stdout",
     "output_type": "stream",
     "text": [
      "Decision Tree False True\n",
      "accuracy ---> mean: 0.7325398147483604  |  std: 0.047288974852970185\n",
      "precision ---> mean: 0.6705655230549151  |  std: 0.04366560731674457\n",
      "recall ---> mean: 0.9267601351441109  |  std: 0.020169644366720953\n",
      "f1_score ---> mean: 0.7771515769631577  |  std: 0.030258940665762495\n",
      "Decision Tree False False\n",
      "accuracy ---> mean: 1.0  |  std: 0.0\n",
      "precision ---> mean: 1.0  |  std: 0.0\n",
      "recall ---> mean: 1.0  |  std: 0.0\n",
      "f1_score ---> mean: 1.0  |  std: 0.0\n"
     ]
    },
    {
     "data": {
      "text/html": [
       "<div>\n",
       "<style scoped>\n",
       "    .dataframe tbody tr th:only-of-type {\n",
       "        vertical-align: middle;\n",
       "    }\n",
       "\n",
       "    .dataframe tbody tr th {\n",
       "        vertical-align: top;\n",
       "    }\n",
       "\n",
       "    .dataframe thead th {\n",
       "        text-align: right;\n",
       "    }\n",
       "</style>\n",
       "<table border=\"1\" class=\"dataframe\">\n",
       "  <thead>\n",
       "    <tr style=\"text-align: right;\">\n",
       "      <th></th>\n",
       "      <th>anonymized train</th>\n",
       "      <th>anonymized test</th>\n",
       "      <th>accuracy</th>\n",
       "      <th>precision</th>\n",
       "      <th>recall</th>\n",
       "      <th>f1_score</th>\n",
       "    </tr>\n",
       "  </thead>\n",
       "  <tbody>\n",
       "    <tr>\n",
       "      <th>0</th>\n",
       "      <td>True</td>\n",
       "      <td>True</td>\n",
       "      <td>61.963%</td>\n",
       "      <td>62.727%</td>\n",
       "      <td>69.846%</td>\n",
       "      <td>61.351%</td>\n",
       "    </tr>\n",
       "    <tr>\n",
       "      <th>1</th>\n",
       "      <td>True</td>\n",
       "      <td>False</td>\n",
       "      <td>58.989%</td>\n",
       "      <td>60.828%</td>\n",
       "      <td>83.124%</td>\n",
       "      <td>68.421%</td>\n",
       "    </tr>\n",
       "    <tr>\n",
       "      <th>2</th>\n",
       "      <td>False</td>\n",
       "      <td>True</td>\n",
       "      <td>73.254%</td>\n",
       "      <td>67.057%</td>\n",
       "      <td>92.676%</td>\n",
       "      <td>77.715%</td>\n",
       "    </tr>\n",
       "    <tr>\n",
       "      <th>3</th>\n",
       "      <td>False</td>\n",
       "      <td>False</td>\n",
       "      <td>100.000%</td>\n",
       "      <td>100.000%</td>\n",
       "      <td>100.000%</td>\n",
       "      <td>100.000%</td>\n",
       "    </tr>\n",
       "  </tbody>\n",
       "</table>\n",
       "</div>"
      ],
      "text/plain": [
       "  anonymized train anonymized test  accuracy precision    recall  f1_score\n",
       "0             True            True   61.963%   62.727%   69.846%   61.351%\n",
       "1             True           False   58.989%   60.828%   83.124%   68.421%\n",
       "2            False            True   73.254%   67.057%   92.676%   77.715%\n",
       "3            False           False  100.000%  100.000%  100.000%  100.000%"
      ]
     },
     "execution_count": 11,
     "metadata": {},
     "output_type": "execute_result"
    }
   ],
   "source": [
    "results_dtree = get_results(DecisionTreeClassifier(), X, y, 'Decision Tree', 3)\n",
    "results_dtree"
   ]
  },
  {
   "cell_type": "code",
   "execution_count": 12,
   "metadata": {},
   "outputs": [
    {
     "name": "stderr",
     "output_type": "stream",
     "text": [
      "/opt/homebrew/lib/python3.11/site-packages/sklearn/cluster/_kmeans.py:870: FutureWarning: The default value of `n_init` will change from 10 to 'auto' in 1.4. Set the value of `n_init` explicitly to suppress the warning\n",
      "  warnings.warn(\n",
      "/opt/homebrew/lib/python3.11/site-packages/sklearn/cluster/_kmeans.py:870: FutureWarning: The default value of `n_init` will change from 10 to 'auto' in 1.4. Set the value of `n_init` explicitly to suppress the warning\n",
      "  warnings.warn(\n",
      "/opt/homebrew/lib/python3.11/site-packages/sklearn/cluster/_kmeans.py:870: FutureWarning: The default value of `n_init` will change from 10 to 'auto' in 1.4. Set the value of `n_init` explicitly to suppress the warning\n",
      "  warnings.warn(\n",
      "/opt/homebrew/lib/python3.11/site-packages/sklearn/cluster/_kmeans.py:870: FutureWarning: The default value of `n_init` will change from 10 to 'auto' in 1.4. Set the value of `n_init` explicitly to suppress the warning\n",
      "  warnings.warn(\n",
      "/opt/homebrew/lib/python3.11/site-packages/sklearn/cluster/_kmeans.py:870: FutureWarning: The default value of `n_init` will change from 10 to 'auto' in 1.4. Set the value of `n_init` explicitly to suppress the warning\n",
      "  warnings.warn(\n",
      "/opt/homebrew/lib/python3.11/site-packages/sklearn/cluster/_kmeans.py:870: FutureWarning: The default value of `n_init` will change from 10 to 'auto' in 1.4. Set the value of `n_init` explicitly to suppress the warning\n",
      "  warnings.warn(\n"
     ]
    },
    {
     "name": "stdout",
     "output_type": "stream",
     "text": [
      "Random Forest True True\n",
      "accuracy ---> mean: 0.6430185127434763  |  std: 0.14804656901924326\n",
      "precision ---> mean: 0.6602499060702441  |  std: 0.14897929577074537\n",
      "recall ---> mean: 0.6926964892839429  |  std: 0.19002080563468216\n",
      "f1_score ---> mean: 0.6568998438862126  |  std: 0.12465225706011512\n"
     ]
    },
    {
     "name": "stderr",
     "output_type": "stream",
     "text": [
      "/opt/homebrew/lib/python3.11/site-packages/sklearn/cluster/_kmeans.py:870: FutureWarning: The default value of `n_init` will change from 10 to 'auto' in 1.4. Set the value of `n_init` explicitly to suppress the warning\n",
      "  warnings.warn(\n",
      "/opt/homebrew/lib/python3.11/site-packages/sklearn/cluster/_kmeans.py:870: FutureWarning: The default value of `n_init` will change from 10 to 'auto' in 1.4. Set the value of `n_init` explicitly to suppress the warning\n",
      "  warnings.warn(\n",
      "/opt/homebrew/lib/python3.11/site-packages/sklearn/cluster/_kmeans.py:870: FutureWarning: The default value of `n_init` will change from 10 to 'auto' in 1.4. Set the value of `n_init` explicitly to suppress the warning\n",
      "  warnings.warn(\n"
     ]
    },
    {
     "name": "stdout",
     "output_type": "stream",
     "text": [
      "Random Forest True False\n",
      "accuracy ---> mean: 0.7511692699575342  |  std: 0.055866354217251564\n",
      "precision ---> mean: 0.6929446990948156  |  std: 0.056999813384306416\n",
      "recall ---> mean: 0.9207207935524476  |  std: 0.04476353196372176\n",
      "f1_score ---> mean: 0.7886900809960636  |  std: 0.03871791602665235\n"
     ]
    },
    {
     "name": "stderr",
     "output_type": "stream",
     "text": [
      "/opt/homebrew/lib/python3.11/site-packages/sklearn/cluster/_kmeans.py:870: FutureWarning: The default value of `n_init` will change from 10 to 'auto' in 1.4. Set the value of `n_init` explicitly to suppress the warning\n",
      "  warnings.warn(\n",
      "/opt/homebrew/lib/python3.11/site-packages/sklearn/cluster/_kmeans.py:870: FutureWarning: The default value of `n_init` will change from 10 to 'auto' in 1.4. Set the value of `n_init` explicitly to suppress the warning\n",
      "  warnings.warn(\n",
      "/opt/homebrew/lib/python3.11/site-packages/sklearn/cluster/_kmeans.py:870: FutureWarning: The default value of `n_init` will change from 10 to 'auto' in 1.4. Set the value of `n_init` explicitly to suppress the warning\n",
      "  warnings.warn(\n"
     ]
    },
    {
     "name": "stdout",
     "output_type": "stream",
     "text": [
      "Random Forest False True\n",
      "accuracy ---> mean: 0.5089598220035719  |  std: 0.012588399148174341\n",
      "precision ---> mean: 0.5046025486454638  |  std: 0.006467696081929061\n",
      "recall ---> mean: 0.999859994399776  |  std: 0.00019799781864499082\n",
      "f1_score ---> mean: 0.6706897070051272  |  std: 0.005719609473246974\n",
      "Random Forest False False\n",
      "accuracy ---> mean: 0.999980000099995  |  std: 1.4142064921366732e-05\n",
      "precision ---> mean: 0.9999600031997439  |  std: 2.828200868679184e-05\n",
      "recall ---> mean: 1.0  |  std: 0.0\n",
      "f1_score ---> mean: 0.9999800009999499  |  std: 1.4141428552310986e-05\n"
     ]
    },
    {
     "data": {
      "text/html": [
       "<div>\n",
       "<style scoped>\n",
       "    .dataframe tbody tr th:only-of-type {\n",
       "        vertical-align: middle;\n",
       "    }\n",
       "\n",
       "    .dataframe tbody tr th {\n",
       "        vertical-align: top;\n",
       "    }\n",
       "\n",
       "    .dataframe thead th {\n",
       "        text-align: right;\n",
       "    }\n",
       "</style>\n",
       "<table border=\"1\" class=\"dataframe\">\n",
       "  <thead>\n",
       "    <tr style=\"text-align: right;\">\n",
       "      <th></th>\n",
       "      <th>anonymized train</th>\n",
       "      <th>anonymized test</th>\n",
       "      <th>accuracy</th>\n",
       "      <th>precision</th>\n",
       "      <th>recall</th>\n",
       "      <th>f1_score</th>\n",
       "    </tr>\n",
       "  </thead>\n",
       "  <tbody>\n",
       "    <tr>\n",
       "      <th>0</th>\n",
       "      <td>True</td>\n",
       "      <td>True</td>\n",
       "      <td>64.302%</td>\n",
       "      <td>66.025%</td>\n",
       "      <td>69.270%</td>\n",
       "      <td>65.690%</td>\n",
       "    </tr>\n",
       "    <tr>\n",
       "      <th>1</th>\n",
       "      <td>True</td>\n",
       "      <td>False</td>\n",
       "      <td>75.117%</td>\n",
       "      <td>69.294%</td>\n",
       "      <td>92.072%</td>\n",
       "      <td>78.869%</td>\n",
       "    </tr>\n",
       "    <tr>\n",
       "      <th>2</th>\n",
       "      <td>False</td>\n",
       "      <td>True</td>\n",
       "      <td>50.896%</td>\n",
       "      <td>50.460%</td>\n",
       "      <td>99.986%</td>\n",
       "      <td>67.069%</td>\n",
       "    </tr>\n",
       "    <tr>\n",
       "      <th>3</th>\n",
       "      <td>False</td>\n",
       "      <td>False</td>\n",
       "      <td>99.998%</td>\n",
       "      <td>99.996%</td>\n",
       "      <td>100.000%</td>\n",
       "      <td>99.998%</td>\n",
       "    </tr>\n",
       "  </tbody>\n",
       "</table>\n",
       "</div>"
      ],
      "text/plain": [
       "  anonymized train anonymized test accuracy precision    recall f1_score\n",
       "0             True            True  64.302%   66.025%   69.270%  65.690%\n",
       "1             True           False  75.117%   69.294%   92.072%  78.869%\n",
       "2            False            True  50.896%   50.460%   99.986%  67.069%\n",
       "3            False           False  99.998%   99.996%  100.000%  99.998%"
      ]
     },
     "execution_count": 12,
     "metadata": {},
     "output_type": "execute_result"
    }
   ],
   "source": [
    "results_rfc = get_results(RandomForestClassifier(n_estimators=100), X, y, 'Random Forest', 3)\n",
    "results_rfc"
   ]
  },
  {
   "cell_type": "code",
   "execution_count": 13,
   "metadata": {},
   "outputs": [
    {
     "name": "stderr",
     "output_type": "stream",
     "text": [
      "/opt/homebrew/lib/python3.11/site-packages/sklearn/cluster/_kmeans.py:870: FutureWarning: The default value of `n_init` will change from 10 to 'auto' in 1.4. Set the value of `n_init` explicitly to suppress the warning\n",
      "  warnings.warn(\n",
      "/opt/homebrew/lib/python3.11/site-packages/sklearn/cluster/_kmeans.py:870: FutureWarning: The default value of `n_init` will change from 10 to 'auto' in 1.4. Set the value of `n_init` explicitly to suppress the warning\n",
      "  warnings.warn(\n",
      "/opt/homebrew/lib/python3.11/site-packages/sklearn/cluster/_kmeans.py:870: FutureWarning: The default value of `n_init` will change from 10 to 'auto' in 1.4. Set the value of `n_init` explicitly to suppress the warning\n",
      "  warnings.warn(\n",
      "/opt/homebrew/lib/python3.11/site-packages/sklearn/cluster/_kmeans.py:870: FutureWarning: The default value of `n_init` will change from 10 to 'auto' in 1.4. Set the value of `n_init` explicitly to suppress the warning\n",
      "  warnings.warn(\n",
      "/opt/homebrew/lib/python3.11/site-packages/sklearn/cluster/_kmeans.py:870: FutureWarning: The default value of `n_init` will change from 10 to 'auto' in 1.4. Set the value of `n_init` explicitly to suppress the warning\n",
      "  warnings.warn(\n",
      "/opt/homebrew/lib/python3.11/site-packages/sklearn/cluster/_kmeans.py:870: FutureWarning: The default value of `n_init` will change from 10 to 'auto' in 1.4. Set the value of `n_init` explicitly to suppress the warning\n",
      "  warnings.warn(\n"
     ]
    },
    {
     "name": "stdout",
     "output_type": "stream",
     "text": [
      "GaussianNB True True\n",
      "accuracy ---> mean: 0.7256811000341359  |  std: 0.07779735787003975\n",
      "precision ---> mean: 0.8035151539935632  |  std: 0.1328112691748339\n",
      "recall ---> mean: 0.7112848358657452  |  std: 0.33792691272486214\n",
      "f1_score ---> mean: 0.6675951465557536  |  std: 0.2048959257450276\n"
     ]
    },
    {
     "name": "stderr",
     "output_type": "stream",
     "text": [
      "/opt/homebrew/lib/python3.11/site-packages/sklearn/cluster/_kmeans.py:870: FutureWarning: The default value of `n_init` will change from 10 to 'auto' in 1.4. Set the value of `n_init` explicitly to suppress the warning\n",
      "  warnings.warn(\n",
      "/opt/homebrew/lib/python3.11/site-packages/sklearn/cluster/_kmeans.py:870: FutureWarning: The default value of `n_init` will change from 10 to 'auto' in 1.4. Set the value of `n_init` explicitly to suppress the warning\n",
      "  warnings.warn(\n",
      "/opt/homebrew/lib/python3.11/site-packages/sklearn/cluster/_kmeans.py:870: FutureWarning: The default value of `n_init` will change from 10 to 'auto' in 1.4. Set the value of `n_init` explicitly to suppress the warning\n",
      "  warnings.warn(\n"
     ]
    },
    {
     "name": "stdout",
     "output_type": "stream",
     "text": [
      "GaussianNB True False\n",
      "accuracy ---> mean: 0.7334096512501693  |  std: 0.05701233565499425\n",
      "precision ---> mean: 0.8028134512345781  |  std: 0.1382187977368999\n",
      "recall ---> mean: 0.7292515460143215  |  std: 0.298944788696969\n",
      "f1_score ---> mean: 0.6936860026302316  |  std: 0.1588831098588801\n"
     ]
    },
    {
     "name": "stderr",
     "output_type": "stream",
     "text": [
      "/opt/homebrew/lib/python3.11/site-packages/sklearn/cluster/_kmeans.py:870: FutureWarning: The default value of `n_init` will change from 10 to 'auto' in 1.4. Set the value of `n_init` explicitly to suppress the warning\n",
      "  warnings.warn(\n",
      "/opt/homebrew/lib/python3.11/site-packages/sklearn/cluster/_kmeans.py:870: FutureWarning: The default value of `n_init` will change from 10 to 'auto' in 1.4. Set the value of `n_init` explicitly to suppress the warning\n",
      "  warnings.warn(\n",
      "/opt/homebrew/lib/python3.11/site-packages/sklearn/cluster/_kmeans.py:870: FutureWarning: The default value of `n_init` will change from 10 to 'auto' in 1.4. Set the value of `n_init` explicitly to suppress the warning\n",
      "  warnings.warn(\n"
     ]
    },
    {
     "name": "stdout",
     "output_type": "stream",
     "text": [
      "GaussianNB False True\n",
      "accuracy ---> mean: 0.6410802759254568  |  std: 0.019569893578705\n",
      "precision ---> mean: 0.9982426695128609  |  std: 0.0004989224914812132\n",
      "recall ---> mean: 0.2826404782356771  |  std: 0.039093089002359124\n",
      "f1_score ---> mean: 0.4390730414411534  |  std: 0.048593635632050054\n",
      "GaussianNB False False\n",
      "accuracy ---> mean: 0.6410802759254568  |  std: 0.019569893578705\n",
      "precision ---> mean: 0.9982426695128609  |  std: 0.0004989224914812132\n",
      "recall ---> mean: 0.2826404782356771  |  std: 0.039093089002359124\n",
      "f1_score ---> mean: 0.4390730414411534  |  std: 0.048593635632050054\n"
     ]
    },
    {
     "data": {
      "text/html": [
       "<div>\n",
       "<style scoped>\n",
       "    .dataframe tbody tr th:only-of-type {\n",
       "        vertical-align: middle;\n",
       "    }\n",
       "\n",
       "    .dataframe tbody tr th {\n",
       "        vertical-align: top;\n",
       "    }\n",
       "\n",
       "    .dataframe thead th {\n",
       "        text-align: right;\n",
       "    }\n",
       "</style>\n",
       "<table border=\"1\" class=\"dataframe\">\n",
       "  <thead>\n",
       "    <tr style=\"text-align: right;\">\n",
       "      <th></th>\n",
       "      <th>anonymized train</th>\n",
       "      <th>anonymized test</th>\n",
       "      <th>accuracy</th>\n",
       "      <th>precision</th>\n",
       "      <th>recall</th>\n",
       "      <th>f1_score</th>\n",
       "    </tr>\n",
       "  </thead>\n",
       "  <tbody>\n",
       "    <tr>\n",
       "      <th>0</th>\n",
       "      <td>True</td>\n",
       "      <td>True</td>\n",
       "      <td>72.568%</td>\n",
       "      <td>80.352%</td>\n",
       "      <td>71.128%</td>\n",
       "      <td>66.760%</td>\n",
       "    </tr>\n",
       "    <tr>\n",
       "      <th>1</th>\n",
       "      <td>True</td>\n",
       "      <td>False</td>\n",
       "      <td>73.341%</td>\n",
       "      <td>80.281%</td>\n",
       "      <td>72.925%</td>\n",
       "      <td>69.369%</td>\n",
       "    </tr>\n",
       "    <tr>\n",
       "      <th>2</th>\n",
       "      <td>False</td>\n",
       "      <td>True</td>\n",
       "      <td>64.108%</td>\n",
       "      <td>99.824%</td>\n",
       "      <td>28.264%</td>\n",
       "      <td>43.907%</td>\n",
       "    </tr>\n",
       "    <tr>\n",
       "      <th>3</th>\n",
       "      <td>False</td>\n",
       "      <td>False</td>\n",
       "      <td>64.108%</td>\n",
       "      <td>99.824%</td>\n",
       "      <td>28.264%</td>\n",
       "      <td>43.907%</td>\n",
       "    </tr>\n",
       "  </tbody>\n",
       "</table>\n",
       "</div>"
      ],
      "text/plain": [
       "  anonymized train anonymized test accuracy precision   recall f1_score\n",
       "0             True            True  72.568%   80.352%  71.128%  66.760%\n",
       "1             True           False  73.341%   80.281%  72.925%  69.369%\n",
       "2            False            True  64.108%   99.824%  28.264%  43.907%\n",
       "3            False           False  64.108%   99.824%  28.264%  43.907%"
      ]
     },
     "execution_count": 13,
     "metadata": {},
     "output_type": "execute_result"
    }
   ],
   "source": [
    "results_gnb = get_results(GaussianNB(var_smoothing=1e-02), X, y, 'GaussianNB', 3)\n",
    "results_gnb"
   ]
  },
  {
   "cell_type": "code",
   "execution_count": 14,
   "metadata": {},
   "outputs": [],
   "source": [
    "results_knn.insert(0, \"model\", ['KNN', 'KNN', 'KNN', 'KNN'], True)\n",
    "results_dtree.insert(0, \"model\", ['Decision Tree', 'Decision Tree', 'Decision Tree', 'Decision Tree'], True)\n",
    "results_rfc.insert(0, \"model\", ['Random Forest', 'Random Forest', 'Random Forest', 'Random Forest'], True)\n",
    "results_gnb.insert(0, \"model\", ['Gaussian NB', 'Gaussian NB', 'Gaussian NB', 'Gaussian NB'], True)\n"
   ]
  },
  {
   "cell_type": "code",
   "execution_count": 15,
   "metadata": {},
   "outputs": [],
   "source": [
    "results = pd.DataFrame(columns=['model', 'anonymized train', 'anonymized test' , 'accuracy', 'precision', 'recall', 'f1_score'])\n",
    "\n",
    "results = pd.concat([results, results_knn], ignore_index=True)\n",
    "results = pd.concat([results, results_dtree], ignore_index=True)\n",
    "results = pd.concat([results, results_rfc], ignore_index=True)\n",
    "results = pd.concat([results, results_gnb], ignore_index=True)"
   ]
  },
  {
   "cell_type": "code",
   "execution_count": 16,
   "metadata": {},
   "outputs": [
    {
     "data": {
      "text/html": [
       "<div>\n",
       "<style scoped>\n",
       "    .dataframe tbody tr th:only-of-type {\n",
       "        vertical-align: middle;\n",
       "    }\n",
       "\n",
       "    .dataframe tbody tr th {\n",
       "        vertical-align: top;\n",
       "    }\n",
       "\n",
       "    .dataframe thead th {\n",
       "        text-align: right;\n",
       "    }\n",
       "</style>\n",
       "<table border=\"1\" class=\"dataframe\">\n",
       "  <thead>\n",
       "    <tr style=\"text-align: right;\">\n",
       "      <th></th>\n",
       "      <th>model</th>\n",
       "      <th>anonymized train</th>\n",
       "      <th>anonymized test</th>\n",
       "      <th>accuracy</th>\n",
       "      <th>precision</th>\n",
       "      <th>recall</th>\n",
       "      <th>f1_score</th>\n",
       "    </tr>\n",
       "  </thead>\n",
       "  <tbody>\n",
       "    <tr>\n",
       "      <th>0</th>\n",
       "      <td>KNN</td>\n",
       "      <td>True</td>\n",
       "      <td>True</td>\n",
       "      <td>74.168%</td>\n",
       "      <td>67.494%</td>\n",
       "      <td>94.504%</td>\n",
       "      <td>78.649%</td>\n",
       "    </tr>\n",
       "    <tr>\n",
       "      <th>1</th>\n",
       "      <td>KNN</td>\n",
       "      <td>True</td>\n",
       "      <td>False</td>\n",
       "      <td>77.555%</td>\n",
       "      <td>70.649%</td>\n",
       "      <td>94.276%</td>\n",
       "      <td>80.770%</td>\n",
       "    </tr>\n",
       "    <tr>\n",
       "      <th>2</th>\n",
       "      <td>KNN</td>\n",
       "      <td>False</td>\n",
       "      <td>True</td>\n",
       "      <td>78.732%</td>\n",
       "      <td>71.152%</td>\n",
       "      <td>96.630%</td>\n",
       "      <td>81.949%</td>\n",
       "    </tr>\n",
       "    <tr>\n",
       "      <th>3</th>\n",
       "      <td>KNN</td>\n",
       "      <td>False</td>\n",
       "      <td>False</td>\n",
       "      <td>99.999%</td>\n",
       "      <td>100.000%</td>\n",
       "      <td>99.998%</td>\n",
       "      <td>99.999%</td>\n",
       "    </tr>\n",
       "    <tr>\n",
       "      <th>4</th>\n",
       "      <td>Decision Tree</td>\n",
       "      <td>True</td>\n",
       "      <td>True</td>\n",
       "      <td>61.963%</td>\n",
       "      <td>62.727%</td>\n",
       "      <td>69.846%</td>\n",
       "      <td>61.351%</td>\n",
       "    </tr>\n",
       "    <tr>\n",
       "      <th>5</th>\n",
       "      <td>Decision Tree</td>\n",
       "      <td>True</td>\n",
       "      <td>False</td>\n",
       "      <td>58.989%</td>\n",
       "      <td>60.828%</td>\n",
       "      <td>83.124%</td>\n",
       "      <td>68.421%</td>\n",
       "    </tr>\n",
       "    <tr>\n",
       "      <th>6</th>\n",
       "      <td>Decision Tree</td>\n",
       "      <td>False</td>\n",
       "      <td>True</td>\n",
       "      <td>73.254%</td>\n",
       "      <td>67.057%</td>\n",
       "      <td>92.676%</td>\n",
       "      <td>77.715%</td>\n",
       "    </tr>\n",
       "    <tr>\n",
       "      <th>7</th>\n",
       "      <td>Decision Tree</td>\n",
       "      <td>False</td>\n",
       "      <td>False</td>\n",
       "      <td>100.000%</td>\n",
       "      <td>100.000%</td>\n",
       "      <td>100.000%</td>\n",
       "      <td>100.000%</td>\n",
       "    </tr>\n",
       "    <tr>\n",
       "      <th>8</th>\n",
       "      <td>Random Forest</td>\n",
       "      <td>True</td>\n",
       "      <td>True</td>\n",
       "      <td>64.302%</td>\n",
       "      <td>66.025%</td>\n",
       "      <td>69.270%</td>\n",
       "      <td>65.690%</td>\n",
       "    </tr>\n",
       "    <tr>\n",
       "      <th>9</th>\n",
       "      <td>Random Forest</td>\n",
       "      <td>True</td>\n",
       "      <td>False</td>\n",
       "      <td>75.117%</td>\n",
       "      <td>69.294%</td>\n",
       "      <td>92.072%</td>\n",
       "      <td>78.869%</td>\n",
       "    </tr>\n",
       "    <tr>\n",
       "      <th>10</th>\n",
       "      <td>Random Forest</td>\n",
       "      <td>False</td>\n",
       "      <td>True</td>\n",
       "      <td>50.896%</td>\n",
       "      <td>50.460%</td>\n",
       "      <td>99.986%</td>\n",
       "      <td>67.069%</td>\n",
       "    </tr>\n",
       "    <tr>\n",
       "      <th>11</th>\n",
       "      <td>Random Forest</td>\n",
       "      <td>False</td>\n",
       "      <td>False</td>\n",
       "      <td>99.998%</td>\n",
       "      <td>99.996%</td>\n",
       "      <td>100.000%</td>\n",
       "      <td>99.998%</td>\n",
       "    </tr>\n",
       "    <tr>\n",
       "      <th>12</th>\n",
       "      <td>Gaussian NB</td>\n",
       "      <td>True</td>\n",
       "      <td>True</td>\n",
       "      <td>72.568%</td>\n",
       "      <td>80.352%</td>\n",
       "      <td>71.128%</td>\n",
       "      <td>66.760%</td>\n",
       "    </tr>\n",
       "    <tr>\n",
       "      <th>13</th>\n",
       "      <td>Gaussian NB</td>\n",
       "      <td>True</td>\n",
       "      <td>False</td>\n",
       "      <td>73.341%</td>\n",
       "      <td>80.281%</td>\n",
       "      <td>72.925%</td>\n",
       "      <td>69.369%</td>\n",
       "    </tr>\n",
       "    <tr>\n",
       "      <th>14</th>\n",
       "      <td>Gaussian NB</td>\n",
       "      <td>False</td>\n",
       "      <td>True</td>\n",
       "      <td>64.108%</td>\n",
       "      <td>99.824%</td>\n",
       "      <td>28.264%</td>\n",
       "      <td>43.907%</td>\n",
       "    </tr>\n",
       "    <tr>\n",
       "      <th>15</th>\n",
       "      <td>Gaussian NB</td>\n",
       "      <td>False</td>\n",
       "      <td>False</td>\n",
       "      <td>64.108%</td>\n",
       "      <td>99.824%</td>\n",
       "      <td>28.264%</td>\n",
       "      <td>43.907%</td>\n",
       "    </tr>\n",
       "  </tbody>\n",
       "</table>\n",
       "</div>"
      ],
      "text/plain": [
       "            model anonymized train anonymized test  accuracy precision  \\\n",
       "0             KNN             True            True   74.168%   67.494%   \n",
       "1             KNN             True           False   77.555%   70.649%   \n",
       "2             KNN            False            True   78.732%   71.152%   \n",
       "3             KNN            False           False   99.999%  100.000%   \n",
       "4   Decision Tree             True            True   61.963%   62.727%   \n",
       "5   Decision Tree             True           False   58.989%   60.828%   \n",
       "6   Decision Tree            False            True   73.254%   67.057%   \n",
       "7   Decision Tree            False           False  100.000%  100.000%   \n",
       "8   Random Forest             True            True   64.302%   66.025%   \n",
       "9   Random Forest             True           False   75.117%   69.294%   \n",
       "10  Random Forest            False            True   50.896%   50.460%   \n",
       "11  Random Forest            False           False   99.998%   99.996%   \n",
       "12    Gaussian NB             True            True   72.568%   80.352%   \n",
       "13    Gaussian NB             True           False   73.341%   80.281%   \n",
       "14    Gaussian NB            False            True   64.108%   99.824%   \n",
       "15    Gaussian NB            False           False   64.108%   99.824%   \n",
       "\n",
       "      recall  f1_score  \n",
       "0    94.504%   78.649%  \n",
       "1    94.276%   80.770%  \n",
       "2    96.630%   81.949%  \n",
       "3    99.998%   99.999%  \n",
       "4    69.846%   61.351%  \n",
       "5    83.124%   68.421%  \n",
       "6    92.676%   77.715%  \n",
       "7   100.000%  100.000%  \n",
       "8    69.270%   65.690%  \n",
       "9    92.072%   78.869%  \n",
       "10   99.986%   67.069%  \n",
       "11  100.000%   99.998%  \n",
       "12   71.128%   66.760%  \n",
       "13   72.925%   69.369%  \n",
       "14   28.264%   43.907%  \n",
       "15   28.264%   43.907%  "
      ]
     },
     "execution_count": 16,
     "metadata": {},
     "output_type": "execute_result"
    }
   ],
   "source": [
    "results"
   ]
  },
  {
   "cell_type": "code",
   "execution_count": 17,
   "metadata": {},
   "outputs": [
    {
     "name": "stderr",
     "output_type": "stream",
     "text": [
      "  0%|          | 0/102 [00:00<?, ?it/s]/opt/homebrew/lib/python3.11/site-packages/sklearn/cluster/_kmeans.py:870: FutureWarning: The default value of `n_init` will change from 10 to 'auto' in 1.4. Set the value of `n_init` explicitly to suppress the warning\n",
      "  warnings.warn(\n",
      "/opt/homebrew/lib/python3.11/site-packages/sklearn/cluster/_kmeans.py:870: FutureWarning: The default value of `n_init` will change from 10 to 'auto' in 1.4. Set the value of `n_init` explicitly to suppress the warning\n",
      "  warnings.warn(\n",
      "/opt/homebrew/lib/python3.11/site-packages/sklearn/cluster/_kmeans.py:870: FutureWarning: The default value of `n_init` will change from 10 to 'auto' in 1.4. Set the value of `n_init` explicitly to suppress the warning\n",
      "  warnings.warn(\n",
      "/opt/homebrew/lib/python3.11/site-packages/sklearn/cluster/_kmeans.py:870: FutureWarning: The default value of `n_init` will change from 10 to 'auto' in 1.4. Set the value of `n_init` explicitly to suppress the warning\n",
      "  warnings.warn(\n",
      "/opt/homebrew/lib/python3.11/site-packages/sklearn/cluster/_kmeans.py:870: FutureWarning: The default value of `n_init` will change from 10 to 'auto' in 1.4. Set the value of `n_init` explicitly to suppress the warning\n",
      "  warnings.warn(\n",
      "/opt/homebrew/lib/python3.11/site-packages/sklearn/cluster/_kmeans.py:870: FutureWarning: The default value of `n_init` will change from 10 to 'auto' in 1.4. Set the value of `n_init` explicitly to suppress the warning\n",
      "  warnings.warn(\n"
     ]
    },
    {
     "name": "stdout",
     "output_type": "stream",
     "text": [
      "KNN True True\n",
      "accuracy ---> mean: 0.8409807272609235  |  std: 0.09369668454341967\n",
      "precision ---> mean: 0.8037623547331729  |  std: 0.13853657249166695\n",
      "recall ---> mean: 0.9439001427579753  |  std: 0.007365476790462604\n",
      "f1_score ---> mean: 0.8622741405095319  |  std: 0.07812684778536273\n"
     ]
    },
    {
     "name": "stderr",
     "output_type": "stream",
     "text": [
      "/opt/homebrew/lib/python3.11/site-packages/sklearn/cluster/_kmeans.py:870: FutureWarning: The default value of `n_init` will change from 10 to 'auto' in 1.4. Set the value of `n_init` explicitly to suppress the warning\n",
      "  warnings.warn(\n",
      "/opt/homebrew/lib/python3.11/site-packages/sklearn/cluster/_kmeans.py:870: FutureWarning: The default value of `n_init` will change from 10 to 'auto' in 1.4. Set the value of `n_init` explicitly to suppress the warning\n",
      "  warnings.warn(\n",
      "/opt/homebrew/lib/python3.11/site-packages/sklearn/cluster/_kmeans.py:870: FutureWarning: The default value of `n_init` will change from 10 to 'auto' in 1.4. Set the value of `n_init` explicitly to suppress the warning\n",
      "  warnings.warn(\n"
     ]
    },
    {
     "name": "stdout",
     "output_type": "stream",
     "text": [
      "KNN True False\n",
      "accuracy ---> mean: 0.8157404823583244  |  std: 0.11433197686565447\n",
      "precision ---> mean: 0.777085797435184  |  std: 0.1599861386751312\n",
      "recall ---> mean: 0.9587607575821603  |  std: 0.02748662016071933\n",
      "f1_score ---> mean: 0.8485053130427409  |  std: 0.08863324088117874\n"
     ]
    },
    {
     "name": "stderr",
     "output_type": "stream",
     "text": [
      "/opt/homebrew/lib/python3.11/site-packages/sklearn/cluster/_kmeans.py:870: FutureWarning: The default value of `n_init` will change from 10 to 'auto' in 1.4. Set the value of `n_init` explicitly to suppress the warning\n",
      "  warnings.warn(\n",
      "/opt/homebrew/lib/python3.11/site-packages/sklearn/cluster/_kmeans.py:870: FutureWarning: The default value of `n_init` will change from 10 to 'auto' in 1.4. Set the value of `n_init` explicitly to suppress the warning\n",
      "  warnings.warn(\n",
      "/opt/homebrew/lib/python3.11/site-packages/sklearn/cluster/_kmeans.py:870: FutureWarning: The default value of `n_init` will change from 10 to 'auto' in 1.4. Set the value of `n_init` explicitly to suppress the warning\n",
      "  warnings.warn(\n"
     ]
    },
    {
     "name": "stdout",
     "output_type": "stream",
     "text": [
      "KNN False True\n",
      "accuracy ---> mean: 0.7875698622588914  |  std: 0.009844615588334384\n",
      "precision ---> mean: 0.7116294551146725  |  std: 0.002968591215028512\n",
      "recall ---> mean: 0.9667997255679511  |  std: 0.023548850722078244\n",
      "f1_score ---> mean: 0.8197366205097648  |  std: 0.010359432097865233\n"
     ]
    },
    {
     "name": "stderr",
     "output_type": "stream",
     "text": [
      "  0%|          | 0/102 [00:58<?, ?it/s]\n"
     ]
    },
    {
     "ename": "KeyboardInterrupt",
     "evalue": "",
     "output_type": "error",
     "traceback": [
      "\u001b[0;31m---------------------------------------------------------------------------\u001b[0m",
      "\u001b[0;31mKeyboardInterrupt\u001b[0m                         Traceback (most recent call last)",
      "Cell \u001b[0;32mIn[17], line 7\u001b[0m\n\u001b[1;32m      2\u001b[0m x \u001b[39m=\u001b[39m []\n\u001b[1;32m      6\u001b[0m \u001b[39mfor\u001b[39;00m k \u001b[39min\u001b[39;00m tqdm(\u001b[39mrange\u001b[39m(\u001b[39m3\u001b[39m, \u001b[39m105\u001b[39m, \u001b[39m1\u001b[39m)):\n\u001b[0;32m----> 7\u001b[0m     knn_resul \u001b[39m=\u001b[39m get_results(KNeighborsClassifier(n_neighbors\u001b[39m=\u001b[39;49mk), X, y, \u001b[39m'\u001b[39;49m\u001b[39mKNN\u001b[39;49m\u001b[39m'\u001b[39;49m, k)\n\u001b[1;32m      8\u001b[0m     dtree_resul \u001b[39m=\u001b[39m get_results(DecisionTreeClassifier(), X, y, \u001b[39m'\u001b[39m\u001b[39mDecision Tree\u001b[39m\u001b[39m'\u001b[39m, k)\n\u001b[1;32m      9\u001b[0m     rfc_resul \u001b[39m=\u001b[39m get_results(RandomForestClassifier(n_estimators\u001b[39m=\u001b[39m\u001b[39m100\u001b[39m), X, y, \u001b[39m'\u001b[39m\u001b[39mRandom Forest\u001b[39m\u001b[39m'\u001b[39m, k)\n",
      "Cell \u001b[0;32mIn[8], line 6\u001b[0m, in \u001b[0;36mget_results\u001b[0;34m(model, X, y, model_name, n_clusters)\u001b[0m\n\u001b[1;32m      4\u001b[0m \u001b[39mfor\u001b[39;00m i \u001b[39min\u001b[39;00m \u001b[39mrange\u001b[39m(\u001b[39m0\u001b[39m, \u001b[39m2\u001b[39m):\n\u001b[1;32m      5\u001b[0m     \u001b[39mfor\u001b[39;00m j \u001b[39min\u001b[39;00m \u001b[39mrange\u001b[39m(\u001b[39m0\u001b[39m, \u001b[39m2\u001b[39m):\n\u001b[0;32m----> 6\u001b[0m         new_df \u001b[39m=\u001b[39m pd\u001b[39m.\u001b[39mDataFrame([cross_validate_k_fold(X, y, bol[i], bol[j], model, model_name, n_clusters)], columns\u001b[39m=\u001b[39mresults\u001b[39m.\u001b[39mcolumns)\n\u001b[1;32m      7\u001b[0m         results \u001b[39m=\u001b[39m pd\u001b[39m.\u001b[39mconcat([results, new_df], ignore_index\u001b[39m=\u001b[39m\u001b[39mTrue\u001b[39;00m)\n\u001b[1;32m      9\u001b[0m \u001b[39mfor\u001b[39;00m i \u001b[39min\u001b[39;00m \u001b[39mrange\u001b[39m(\u001b[39m2\u001b[39m, \u001b[39mlen\u001b[39m(results\u001b[39m.\u001b[39mcolumns)):\n",
      "Cell \u001b[0;32mIn[6], line 22\u001b[0m, in \u001b[0;36mcross_validate_k_fold\u001b[0;34m(X, y, anon_training, anon_test, model, model_name, n_clusters)\u001b[0m\n\u001b[1;32m     18\u001b[0m scaler\u001b[39m.\u001b[39mfit(X_test)\n\u001b[1;32m     20\u001b[0m model\u001b[39m.\u001b[39mfit(X_train,y_train)\n\u001b[0;32m---> 22\u001b[0m y_pred \u001b[39m=\u001b[39m model\u001b[39m.\u001b[39;49mpredict(X_test)\n\u001b[1;32m     24\u001b[0m accuracy\u001b[39m.\u001b[39mappend(accuracy_score(y_test, y_pred))\n\u001b[1;32m     25\u001b[0m precision\u001b[39m.\u001b[39mappend(precision_score(y_test, y_pred))\n",
      "File \u001b[0;32m/opt/homebrew/lib/python3.11/site-packages/sklearn/neighbors/_classification.py:234\u001b[0m, in \u001b[0;36mKNeighborsClassifier.predict\u001b[0;34m(self, X)\u001b[0m\n\u001b[1;32m    218\u001b[0m \u001b[39m\u001b[39m\u001b[39m\"\"\"Predict the class labels for the provided data.\u001b[39;00m\n\u001b[1;32m    219\u001b[0m \n\u001b[1;32m    220\u001b[0m \u001b[39mParameters\u001b[39;00m\n\u001b[0;32m   (...)\u001b[0m\n\u001b[1;32m    229\u001b[0m \u001b[39m    Class labels for each data sample.\u001b[39;00m\n\u001b[1;32m    230\u001b[0m \u001b[39m\"\"\"\u001b[39;00m\n\u001b[1;32m    231\u001b[0m \u001b[39mif\u001b[39;00m \u001b[39mself\u001b[39m\u001b[39m.\u001b[39mweights \u001b[39m==\u001b[39m \u001b[39m\"\u001b[39m\u001b[39muniform\u001b[39m\u001b[39m\"\u001b[39m:\n\u001b[1;32m    232\u001b[0m     \u001b[39m# In that case, we do not need the distances to perform\u001b[39;00m\n\u001b[1;32m    233\u001b[0m     \u001b[39m# the weighting so we do not compute them.\u001b[39;00m\n\u001b[0;32m--> 234\u001b[0m     neigh_ind \u001b[39m=\u001b[39m \u001b[39mself\u001b[39;49m\u001b[39m.\u001b[39;49mkneighbors(X, return_distance\u001b[39m=\u001b[39;49m\u001b[39mFalse\u001b[39;49;00m)\n\u001b[1;32m    235\u001b[0m     neigh_dist \u001b[39m=\u001b[39m \u001b[39mNone\u001b[39;00m\n\u001b[1;32m    236\u001b[0m \u001b[39melse\u001b[39;00m:\n",
      "File \u001b[0;32m/opt/homebrew/lib/python3.11/site-packages/sklearn/neighbors/_base.py:824\u001b[0m, in \u001b[0;36mKNeighborsMixin.kneighbors\u001b[0;34m(self, X, n_neighbors, return_distance)\u001b[0m\n\u001b[1;32m    817\u001b[0m use_pairwise_distances_reductions \u001b[39m=\u001b[39m (\n\u001b[1;32m    818\u001b[0m     \u001b[39mself\u001b[39m\u001b[39m.\u001b[39m_fit_method \u001b[39m==\u001b[39m \u001b[39m\"\u001b[39m\u001b[39mbrute\u001b[39m\u001b[39m\"\u001b[39m\n\u001b[1;32m    819\u001b[0m     \u001b[39mand\u001b[39;00m ArgKmin\u001b[39m.\u001b[39mis_usable_for(\n\u001b[1;32m    820\u001b[0m         X \u001b[39mif\u001b[39;00m X \u001b[39mis\u001b[39;00m \u001b[39mnot\u001b[39;00m \u001b[39mNone\u001b[39;00m \u001b[39melse\u001b[39;00m \u001b[39mself\u001b[39m\u001b[39m.\u001b[39m_fit_X, \u001b[39mself\u001b[39m\u001b[39m.\u001b[39m_fit_X, \u001b[39mself\u001b[39m\u001b[39m.\u001b[39meffective_metric_\n\u001b[1;32m    821\u001b[0m     )\n\u001b[1;32m    822\u001b[0m )\n\u001b[1;32m    823\u001b[0m \u001b[39mif\u001b[39;00m use_pairwise_distances_reductions:\n\u001b[0;32m--> 824\u001b[0m     results \u001b[39m=\u001b[39m ArgKmin\u001b[39m.\u001b[39;49mcompute(\n\u001b[1;32m    825\u001b[0m         X\u001b[39m=\u001b[39;49mX,\n\u001b[1;32m    826\u001b[0m         Y\u001b[39m=\u001b[39;49m\u001b[39mself\u001b[39;49m\u001b[39m.\u001b[39;49m_fit_X,\n\u001b[1;32m    827\u001b[0m         k\u001b[39m=\u001b[39;49mn_neighbors,\n\u001b[1;32m    828\u001b[0m         metric\u001b[39m=\u001b[39;49m\u001b[39mself\u001b[39;49m\u001b[39m.\u001b[39;49meffective_metric_,\n\u001b[1;32m    829\u001b[0m         metric_kwargs\u001b[39m=\u001b[39;49m\u001b[39mself\u001b[39;49m\u001b[39m.\u001b[39;49meffective_metric_params_,\n\u001b[1;32m    830\u001b[0m         strategy\u001b[39m=\u001b[39;49m\u001b[39m\"\u001b[39;49m\u001b[39mauto\u001b[39;49m\u001b[39m\"\u001b[39;49m,\n\u001b[1;32m    831\u001b[0m         return_distance\u001b[39m=\u001b[39;49mreturn_distance,\n\u001b[1;32m    832\u001b[0m     )\n\u001b[1;32m    834\u001b[0m \u001b[39melif\u001b[39;00m (\n\u001b[1;32m    835\u001b[0m     \u001b[39mself\u001b[39m\u001b[39m.\u001b[39m_fit_method \u001b[39m==\u001b[39m \u001b[39m\"\u001b[39m\u001b[39mbrute\u001b[39m\u001b[39m\"\u001b[39m \u001b[39mand\u001b[39;00m \u001b[39mself\u001b[39m\u001b[39m.\u001b[39mmetric \u001b[39m==\u001b[39m \u001b[39m\"\u001b[39m\u001b[39mprecomputed\u001b[39m\u001b[39m\"\u001b[39m \u001b[39mand\u001b[39;00m issparse(X)\n\u001b[1;32m    836\u001b[0m ):\n\u001b[1;32m    837\u001b[0m     results \u001b[39m=\u001b[39m _kneighbors_from_graph(\n\u001b[1;32m    838\u001b[0m         X, n_neighbors\u001b[39m=\u001b[39mn_neighbors, return_distance\u001b[39m=\u001b[39mreturn_distance\n\u001b[1;32m    839\u001b[0m     )\n",
      "File \u001b[0;32m/opt/homebrew/lib/python3.11/site-packages/sklearn/metrics/_pairwise_distances_reduction/_dispatcher.py:277\u001b[0m, in \u001b[0;36mArgKmin.compute\u001b[0;34m(cls, X, Y, k, metric, chunk_size, metric_kwargs, strategy, return_distance)\u001b[0m\n\u001b[1;32m    196\u001b[0m \u001b[39m\u001b[39m\u001b[39m\"\"\"Compute the argkmin reduction.\u001b[39;00m\n\u001b[1;32m    197\u001b[0m \n\u001b[1;32m    198\u001b[0m \u001b[39mParameters\u001b[39;00m\n\u001b[0;32m   (...)\u001b[0m\n\u001b[1;32m    274\u001b[0m \u001b[39mreturns.\u001b[39;00m\n\u001b[1;32m    275\u001b[0m \u001b[39m\"\"\"\u001b[39;00m\n\u001b[1;32m    276\u001b[0m \u001b[39mif\u001b[39;00m X\u001b[39m.\u001b[39mdtype \u001b[39m==\u001b[39m Y\u001b[39m.\u001b[39mdtype \u001b[39m==\u001b[39m np\u001b[39m.\u001b[39mfloat64:\n\u001b[0;32m--> 277\u001b[0m     \u001b[39mreturn\u001b[39;00m ArgKmin64\u001b[39m.\u001b[39;49mcompute(\n\u001b[1;32m    278\u001b[0m         X\u001b[39m=\u001b[39;49mX,\n\u001b[1;32m    279\u001b[0m         Y\u001b[39m=\u001b[39;49mY,\n\u001b[1;32m    280\u001b[0m         k\u001b[39m=\u001b[39;49mk,\n\u001b[1;32m    281\u001b[0m         metric\u001b[39m=\u001b[39;49mmetric,\n\u001b[1;32m    282\u001b[0m         chunk_size\u001b[39m=\u001b[39;49mchunk_size,\n\u001b[1;32m    283\u001b[0m         metric_kwargs\u001b[39m=\u001b[39;49mmetric_kwargs,\n\u001b[1;32m    284\u001b[0m         strategy\u001b[39m=\u001b[39;49mstrategy,\n\u001b[1;32m    285\u001b[0m         return_distance\u001b[39m=\u001b[39;49mreturn_distance,\n\u001b[1;32m    286\u001b[0m     )\n\u001b[1;32m    288\u001b[0m \u001b[39mif\u001b[39;00m X\u001b[39m.\u001b[39mdtype \u001b[39m==\u001b[39m Y\u001b[39m.\u001b[39mdtype \u001b[39m==\u001b[39m np\u001b[39m.\u001b[39mfloat32:\n\u001b[1;32m    289\u001b[0m     \u001b[39mreturn\u001b[39;00m ArgKmin32\u001b[39m.\u001b[39mcompute(\n\u001b[1;32m    290\u001b[0m         X\u001b[39m=\u001b[39mX,\n\u001b[1;32m    291\u001b[0m         Y\u001b[39m=\u001b[39mY,\n\u001b[0;32m   (...)\u001b[0m\n\u001b[1;32m    297\u001b[0m         return_distance\u001b[39m=\u001b[39mreturn_distance,\n\u001b[1;32m    298\u001b[0m     )\n",
      "File \u001b[0;32msklearn/metrics/_pairwise_distances_reduction/_argkmin.pyx:95\u001b[0m, in \u001b[0;36msklearn.metrics._pairwise_distances_reduction._argkmin.ArgKmin64.compute\u001b[0;34m()\u001b[0m\n",
      "File \u001b[0;32m/opt/homebrew/lib/python3.11/site-packages/threadpoolctl.py:171\u001b[0m, in \u001b[0;36m_ThreadpoolLimiter.__exit__\u001b[0;34m(self, type, value, traceback)\u001b[0m\n\u001b[1;32m    168\u001b[0m \u001b[39mdef\u001b[39;00m \u001b[39m__enter__\u001b[39m(\u001b[39mself\u001b[39m):\n\u001b[1;32m    169\u001b[0m     \u001b[39mreturn\u001b[39;00m \u001b[39mself\u001b[39m\n\u001b[0;32m--> 171\u001b[0m \u001b[39mdef\u001b[39;00m \u001b[39m__exit__\u001b[39m(\u001b[39mself\u001b[39m, \u001b[39mtype\u001b[39m, value, traceback):\n\u001b[1;32m    172\u001b[0m     \u001b[39mself\u001b[39m\u001b[39m.\u001b[39mrestore_original_limits()\n\u001b[1;32m    174\u001b[0m \u001b[39m@classmethod\u001b[39m\n\u001b[1;32m    175\u001b[0m \u001b[39mdef\u001b[39;00m \u001b[39mwrap\u001b[39m(\u001b[39mcls\u001b[39m, controller, \u001b[39m*\u001b[39m, limits\u001b[39m=\u001b[39m\u001b[39mNone\u001b[39;00m, user_api\u001b[39m=\u001b[39m\u001b[39mNone\u001b[39;00m):\n",
      "\u001b[0;31mKeyboardInterrupt\u001b[0m: "
     ]
    }
   ],
   "source": [
    "results_acuracy = dict()\n",
    "x = []\n",
    "\n",
    "\n",
    "\n",
    "for k in tqdm(range(3, 105, 1)):\n",
    "    knn_resul = get_results(KNeighborsClassifier(n_neighbors=k), X, y, 'KNN', k)\n",
    "    dtree_resul = get_results(DecisionTreeClassifier(), X, y, 'Decision Tree', k)\n",
    "    rfc_resul = get_results(RandomForestClassifier(n_estimators=100), X, y, 'Random Forest', k)\n",
    "    gnb_resul = get_results(GaussianNB(var_smoothing=1e-02), X, y, 'GaussianNB', k)\n",
    "\n",
    "    if 'KNN' not in results_acuracy.keys():\n",
    "        results_acuracy['KNN'] = []\n",
    "    if 'Decision Tree' not in results_acuracy.keys():\n",
    "        results_acuracy['Decision Tree'] = []\n",
    "    if 'Random Forest' not in results_acuracy.keys():\n",
    "        results_acuracy['Random Forest'] = []\n",
    "    if 'GaussianNB' not in results_acuracy.keys():\n",
    "        results_acuracy['GaussianNB'] = []\n",
    "    \n",
    "    results_acuracy['KNN'].append(knn_resul.iloc[0, 2])\n",
    "    results_acuracy['Decision Tree'].append(dtree_resul.iloc[0, 2])\n",
    "    results_acuracy['Random Forest'].append(rfc_resul.iloc[0, 2])\n",
    "    results_acuracy['GaussianNB'].append(gnb_resul.iloc[0, 2])\n",
    "\n",
    "    x.append(k)\n",
    "    \n"
   ]
  },
  {
   "cell_type": "code",
   "execution_count": null,
   "metadata": {},
   "outputs": [],
   "source": [
    "# from joblib import Parallel, delayed\n",
    "\n",
    "# def process(i):\n",
    "#     return [i * i, i * i]\n",
    "    \n",
    "# results = Parallel(n_jobs=2)(delayed(process)(i) for i in range(10))\n",
    "# print(results)  # prints [0, 1, 4, 9, 16, 25, 36, 49, 64, 81]"
   ]
  },
  {
   "cell_type": "code",
   "execution_count": null,
   "metadata": {},
   "outputs": [],
   "source": [
    "print(results_acuracy)"
   ]
  },
  {
   "cell_type": "code",
   "execution_count": null,
   "metadata": {},
   "outputs": [],
   "source": [
    "def plot_resul(results, x):\n",
    "    # color = ['chartreuse', 'orange', 'firebrick', 'blue']\n",
    "    color = {'KNN': 'chartreuse', 'GaussianNB': 'blue', 'Decision Tree': 'firebrick', 'Random Forest': 'orange'}\n",
    "    # marker = ['^', '*', '.', 'o']\n",
    "    marker = {'KNN': 'o', 'GaussianNB': '.', 'Decision Tree': '*', 'Random Forest': '^'}\n",
    "\n",
    "    for key in results.keys():\n",
    "        y = []\n",
    "        for i in range(len(results[key])):\n",
    "            y.append(float(results[key][i][0:len(results[key][i])-1]))\n",
    "        print(key, y)\n",
    "        plt.plot(x, y, color=color[key], marker=marker[key], label=key)\n",
    "\n",
    "    plt.ylabel('Accuracy')\n",
    "    plt.xlabel( 'K of K-Anonymity')\n",
    "    plt.title('Results')\n",
    "    plt.legend()\n",
    "    plt.show()\n",
    "    # plt.savefig('k_by_accuracy' + '.pdf')\n",
    "\n",
    "plot_resul(results_acuracy, x)"
   ]
  }
 ],
 "metadata": {
  "kernelspec": {
   "display_name": "Python 3.9.13 64-bit",
   "language": "python",
   "name": "python3"
  },
  "language_info": {
   "codemirror_mode": {
    "name": "ipython",
    "version": 3
   },
   "file_extension": ".py",
   "mimetype": "text/x-python",
   "name": "python",
   "nbconvert_exporter": "python",
   "pygments_lexer": "ipython3",
   "version": "3.11.3"
  },
  "orig_nbformat": 4,
  "vscode": {
   "interpreter": {
    "hash": "b0fa6594d8f4cbf19f97940f81e996739fb7646882a419484c72d19e05852a7e"
   }
  }
 },
 "nbformat": 4,
 "nbformat_minor": 2
}
