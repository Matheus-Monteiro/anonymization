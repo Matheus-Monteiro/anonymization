{
 "cells": [
  {
   "cell_type": "code",
   "execution_count": 442,
   "metadata": {},
   "outputs": [],
   "source": [
    "import numpy as np\n",
    "import pandas as pd\n",
    "from faker import Faker\n",
    "import time\n",
    "import matplotlib.pyplot as plt\n",
    "from matplotlib.pyplot import figure\n",
    "import scipy.linalg as la\n",
    "from sklearn.cluster import KMeans\n",
    "from sklearn.cluster import AgglomerativeClustering\n",
    "from sklearn.cluster import SpectralClustering\n",
    "from sklearn.cluster import AffinityPropagation\n",
    "from sklearn.cluster import DBSCAN\n",
    "from sklearn.cluster import MeanShift"
   ]
  },
  {
   "cell_type": "code",
   "execution_count": 443,
   "metadata": {},
   "outputs": [],
   "source": [
    "def anonimization(data):\n",
    "    #calculate the mean of each column\n",
    "    mean = np.array(np.mean(data, axis=0).T)\n",
    "\n",
    "    # center data\n",
    "    data_centered = data - mean\n",
    "\n",
    "    # calculate the covariance matrix\n",
    "    cov_matrix = np.cov(data_centered.astype(float), rowvar=False)\n",
    "   \n",
    "    # calculate the eignvalues and eignvectors\n",
    "    evals, evecs = la.eigh(cov_matrix)\n",
    "\n",
    "    # sort them\n",
    "    idx = np.argsort(evals)[::-1]\n",
    "\n",
    "    # Each columns of this matrix is an eingvector\n",
    "    evecs = evecs[:,idx]\n",
    "    evals = evals[idx]\n",
    "\n",
    "    # explained variance\n",
    "    variance_retained=np.cumsum(evals)/np.sum(evals)\n",
    "\n",
    "    # calculate the transformed data\n",
    "    data_transformed=np.dot(evecs.T, data_centered.T).T\n",
    "\n",
    "    # randomize eignvectors\n",
    "    new_evecs = evecs.copy().T\n",
    "    # for i in range(len(new_evecs)):\n",
    "    #     np.random.shuffle(new_evecs[i])\n",
    "    new_evecs = np.array(new_evecs).T\n",
    "\n",
    "    # go back to the original dimension\n",
    "    data_original_dimension = np.dot(data_transformed, new_evecs.T) \n",
    "    data_original_dimension += mean\n",
    "\n",
    "    return data_original_dimension"
   ]
  },
  {
   "cell_type": "code",
   "execution_count": 444,
   "metadata": {},
   "outputs": [],
   "source": [
    "# X = np.array([[1, 2], [1, 4], [1, 0], [4, 2], [4, 4], [4, 0]])\n",
    "# clustering = AgglomerativeClustering(n_clusters=3).fit(X)\n",
    "# clustering.labels_"
   ]
  },
  {
   "cell_type": "code",
   "execution_count": 445,
   "metadata": {},
   "outputs": [],
   "source": [
    "def find_clusters(X, clustering):   \n",
    "    # Kmean = KMeans(n_clusters=k)\n",
    "    clustering.fit(X)\n",
    "    return clustering.labels_"
   ]
  },
  {
   "cell_type": "code",
   "execution_count": 446,
   "metadata": {},
   "outputs": [],
   "source": [
    "def anonimization_clustering(data, clustering):\n",
    "    # generate K data clusters\n",
    "    clusters = find_clusters(data, clustering)\n",
    "\n",
    "    # bucketize the index of each cluster\n",
    "    indices = dict()\n",
    "    for i in range(len(clusters)):\n",
    "        if clusters[i] not in indices.keys():\n",
    "            indices[ clusters[i] ] = []    \n",
    "        indices[ clusters[i] ].append(i)\n",
    "\n",
    "    data_anonymized = None\n",
    "\n",
    "    # anonymize each cluster individually\n",
    "    for k in indices.keys():\n",
    "        if data_anonymized is None:\n",
    "            data_anonymized = anonimization(data[ indices[k] ])\n",
    "            empty_flag = False\n",
    "        else:\n",
    "            data_anonymized = np.concatenate((data_anonymized, anonimization(data[ indices[k] ]) ), axis=0)\n",
    "\n",
    "    return data_anonymized"
   ]
  },
  {
   "cell_type": "code",
   "execution_count": 447,
   "metadata": {},
   "outputs": [
    {
     "name": "stdout",
     "output_type": "stream",
     "text": [
      "96354\n"
     ]
    }
   ],
   "source": [
    "class Hash:\n",
    "    def __init__(self, s: str):\n",
    "        self.p, self.m, self.hash = 31, 10**9 + 7, 0\n",
    "        self.compute_hashes(s)\n",
    " \n",
    "    def compute_hashes(self, s: str):\n",
    "        hash = 0\n",
    "        for ch in s:\n",
    "            value = ord(ch)\n",
    "            hash = (hash * self.p + value) % self.m\n",
    "        self.hash = hash\n",
    " \n",
    "    def __eq__(self, other):\n",
    "        return self.hash == other.hash\n",
    " \n",
    "    def __str__(self):\n",
    "        return f'({self.hash})'\n",
    " \n",
    "def get_hash_value(s: str):\n",
    "    return Hash(s).hash\n",
    "\n",
    "print(get_hash_value(\"abc\"))"
   ]
  },
  {
   "cell_type": "code",
   "execution_count": 448,
   "metadata": {},
   "outputs": [],
   "source": [
    "def create_dataset(num_of_rows, number_of_columns, faker):\n",
    "    dataset = []\n",
    "    for row in range(num_of_rows):\n",
    "        line = []\n",
    "        for col in range(number_of_columns):\n",
    "            name = faker.name()\n",
    "            line.append(name)\n",
    "        dataset.append(line)\n",
    "    dataset = pd.DataFrame(dataset)\n",
    "    for i in range(dataset.shape[0]):\n",
    "        for j in range(dataset.shape[1]):\n",
    "            dataset.iloc[i, j] = get_hash_value(dataset.iloc[i, j])\n",
    "    return np.array(dataset)"
   ]
  },
  {
   "cell_type": "code",
   "execution_count": 449,
   "metadata": {},
   "outputs": [],
   "source": [
    "Faker.seed(123)\n",
    "fake = Faker()"
   ]
  },
  {
   "cell_type": "code",
   "execution_count": 450,
   "metadata": {},
   "outputs": [],
   "source": [
    "# rows = [125, 250, 500, 1000, 2000, 4000]\n",
    "rows = []\n",
    "for r in range(200, 7000, 500):\n",
    "    rows.append(r)\n",
    "x, y_kmeans, y_agglomerative, y_spectral, y_affinity, y_dbscan, y_meanshift = [], [], [], [], [], [], []\n"
   ]
  },
  {
   "cell_type": "code",
   "execution_count": 451,
   "metadata": {},
   "outputs": [
    {
     "name": "stderr",
     "output_type": "stream",
     "text": [
      "/opt/homebrew/lib/python3.10/site-packages/sklearn/manifold/_spectral_embedding.py:259: UserWarning: Graph is not fully connected, spectral embedding may not work as expected.\n",
      "  warnings.warn(\n",
      "/opt/homebrew/lib/python3.10/site-packages/sklearn/manifold/_spectral_embedding.py:259: UserWarning: Graph is not fully connected, spectral embedding may not work as expected.\n",
      "  warnings.warn(\n",
      "/opt/homebrew/lib/python3.10/site-packages/sklearn/manifold/_spectral_embedding.py:259: UserWarning: Graph is not fully connected, spectral embedding may not work as expected.\n",
      "  warnings.warn(\n",
      "/opt/homebrew/lib/python3.10/site-packages/sklearn/cluster/_affinity_propagation.py:236: ConvergenceWarning: Affinity propagation did not converge, this model may return degenerate cluster centers and labels.\n",
      "  warnings.warn(\n",
      "/opt/homebrew/lib/python3.10/site-packages/sklearn/manifold/_spectral_embedding.py:259: UserWarning: Graph is not fully connected, spectral embedding may not work as expected.\n",
      "  warnings.warn(\n",
      "/opt/homebrew/lib/python3.10/site-packages/sklearn/manifold/_spectral_embedding.py:259: UserWarning: Graph is not fully connected, spectral embedding may not work as expected.\n",
      "  warnings.warn(\n",
      "/opt/homebrew/lib/python3.10/site-packages/sklearn/manifold/_spectral_embedding.py:259: UserWarning: Graph is not fully connected, spectral embedding may not work as expected.\n",
      "  warnings.warn(\n",
      "/opt/homebrew/lib/python3.10/site-packages/sklearn/manifold/_spectral_embedding.py:259: UserWarning: Graph is not fully connected, spectral embedding may not work as expected.\n",
      "  warnings.warn(\n",
      "/opt/homebrew/lib/python3.10/site-packages/sklearn/manifold/_spectral_embedding.py:259: UserWarning: Graph is not fully connected, spectral embedding may not work as expected.\n",
      "  warnings.warn(\n",
      "/opt/homebrew/lib/python3.10/site-packages/sklearn/manifold/_spectral_embedding.py:259: UserWarning: Graph is not fully connected, spectral embedding may not work as expected.\n",
      "  warnings.warn(\n",
      "/opt/homebrew/lib/python3.10/site-packages/sklearn/manifold/_spectral_embedding.py:259: UserWarning: Graph is not fully connected, spectral embedding may not work as expected.\n",
      "  warnings.warn(\n",
      "/opt/homebrew/lib/python3.10/site-packages/sklearn/manifold/_spectral_embedding.py:259: UserWarning: Graph is not fully connected, spectral embedding may not work as expected.\n",
      "  warnings.warn(\n",
      "/opt/homebrew/lib/python3.10/site-packages/sklearn/manifold/_spectral_embedding.py:259: UserWarning: Graph is not fully connected, spectral embedding may not work as expected.\n",
      "  warnings.warn(\n",
      "/opt/homebrew/lib/python3.10/site-packages/sklearn/manifold/_spectral_embedding.py:259: UserWarning: Graph is not fully connected, spectral embedding may not work as expected.\n",
      "  warnings.warn(\n",
      "/opt/homebrew/lib/python3.10/site-packages/sklearn/manifold/_spectral_embedding.py:259: UserWarning: Graph is not fully connected, spectral embedding may not work as expected.\n",
      "  warnings.warn(\n"
     ]
    }
   ],
   "source": [
    "for row in rows:\n",
    "    dataset = create_dataset(row, 10, fake)\n",
    "    \n",
    "    start_time = time.time()\n",
    "    dataset = anonimization_clustering(dataset, AgglomerativeClustering(n_clusters=3))\n",
    "    total_time = time.time() - start_time\n",
    "    y_agglomerative.append(total_time)\n",
    "\n",
    "    start_time = time.time()\n",
    "    dataset = anonimization_clustering(dataset, KMeans(n_clusters=3))\n",
    "    total_time = time.time() - start_time\n",
    "    y_kmeans.append(total_time)\n",
    "\n",
    "    start_time = time.time()\n",
    "    dataset = anonimization_clustering(dataset, SpectralClustering(n_clusters=3, assign_labels='discretize', random_state=0))\n",
    "    total_time = time.time() - start_time\n",
    "    y_spectral.append(total_time)\n",
    "\n",
    "    start_time = time.time()\n",
    "    dataset = anonimization_clustering(dataset, AffinityPropagation(random_state=5))\n",
    "    total_time = time.time() - start_time\n",
    "    y_affinity.append(total_time)\n",
    "\n",
    "    start_time = time.time()\n",
    "    dataset = anonimization_clustering(dataset, DBSCAN(eps=3, min_samples=2))\n",
    "    total_time = time.time() - start_time\n",
    "    y_dbscan.append(total_time)\n",
    "\n",
    "    # start_time = time.time()\n",
    "    # dataset = anonimization_clustering(dataset, clustering = MeanShift(bandwidth=2))\n",
    "    # total_time = time.time() - start_time\n",
    "    # y_meanshift.append(total_time)\n",
    "\n",
    "    x.append(row)"
   ]
  },
  {
   "cell_type": "code",
   "execution_count": 452,
   "metadata": {},
   "outputs": [
    {
     "data": {
      "text/plain": [
       "<matplotlib.legend.Legend at 0x291387e80>"
      ]
     },
     "execution_count": 452,
     "metadata": {},
     "output_type": "execute_result"
    },
    {
     "data": {
      "image/png": "[encoded data removed]",
      "text/plain": [
       "<Figure size 640x480 with 1 Axes>"
      ]
     },
     "metadata": {},
     "output_type": "display_data"
    }
   ],
   "source": [
    "plt.plot(x, y_kmeans, color='firebrick', marker='*', label='K-Means')\n",
    "plt.plot(x, y_agglomerative, color='orange', marker='*', label='Agglomerative')\n",
    "plt.plot(x, y_spectral, color='blue', marker='*', label='Spectral')\n",
    "plt.plot(x, y_affinity, color='red', marker='*', label='Affinity')\n",
    "plt.plot(x, y_dbscan, color='purple', marker='*', label='DBSCAN')\n",
    "# plt.plot(x, y_meanshift, color='pink', marker='*', label='Mean Shift')\n",
    "\n",
    "plt.ylabel('Time (s)')\n",
    "plt.xlabel('Number of Lines')\n",
    "plt.title('Anonymization - Clustering Algorithms')\n",
    "plt.legend()"
   ]
  },
  {
   "cell_type": "code",
   "execution_count": 453,
   "metadata": {},
   "outputs": [],
   "source": [
    "\n",
    "plt.show()"
   ]
  }
 ],
 "metadata": {
  "kernelspec": {
   "display_name": "Python 3.9.13 64-bit",
   "language": "python",
   "name": "python3"
  },
  "language_info": {
   "codemirror_mode": {
    "name": "ipython",
    "version": 3
   },
   "file_extension": ".py",
   "mimetype": "text/x-python",
   "name": "python",
   "nbconvert_exporter": "python",
   "pygments_lexer": "ipython3",
   "version": "3.10.6"
  },
  "orig_nbformat": 4,
  "vscode": {
   "interpreter": {
    "hash": "b0fa6594d8f4cbf19f97940f81e996739fb7646882a419484c72d19e05852a7e"
   }
  }
 },
 "nbformat": 4,
 "nbformat_minor": 2
}
