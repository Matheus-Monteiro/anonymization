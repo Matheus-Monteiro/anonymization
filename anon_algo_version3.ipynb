{
 "cells": [
  {
   "cell_type": "code",
   "execution_count": 18,
   "metadata": {},
   "outputs": [],
   "source": [
    "import time\n",
    "from datetime import timedelta\n",
    "import numpy as np\n",
    "import pandas as pd\n",
    "import scipy.linalg as la\n",
    "import matplotlib.pyplot as plt\n",
    "from tqdm import tqdm\n",
    "\n",
    "from joblib import Parallel, delayed\n",
    "from sklearn import svm, model_selection\n",
    "from sklearn.model_selection import train_test_split, StratifiedKFold\n",
    "from sklearn.metrics import accuracy_score, precision_score, confusion_matrix, ConfusionMatrixDisplay\n",
    "from sklearn.neighbors import KNeighborsClassifier\n",
    "from sklearn.tree import DecisionTreeClassifier\n",
    "from sklearn.ensemble import RandomForestClassifier\n",
    "from sklearn.naive_bayes import GaussianNB\n",
    "from sklearn.metrics import classification_report\n",
    "from sklearn.metrics import make_scorer, accuracy_score, precision_score, recall_score, f1_score\n",
    "from sklearn.pipeline import make_pipeline\n",
    "from sklearn.model_selection import KFold\n",
    "from sklearn.preprocessing import MinMaxScaler\n",
    "from sklearn.preprocessing import StandardScaler\n",
    "from sklearn.metrics import pairwise_distances_argmin\n",
    "from sklearn.cluster import KMeans"
   ]
  },
  {
   "cell_type": "code",
   "execution_count": null,
   "metadata": {},
   "outputs": [],
   "source": [
    "np.random.seed(7)"
   ]
  },
  {
   "cell_type": "markdown",
   "metadata": {},
   "source": [
    "### Anonimization algorithm"
   ]
  },
  {
   "cell_type": "code",
   "execution_count": null,
   "metadata": {},
   "outputs": [],
   "source": [
    "def anonimization(data):\n",
    "    #calculate the mean of each column\n",
    "    mean = np.array(np.mean(data, axis=0).T)\n",
    "\n",
    "    # center data\n",
    "    data_centered = data - mean\n",
    "\n",
    "    # calculate the covariance matrix\n",
    "    cov_matrix = np.cov(data_centered, rowvar=False)\n",
    "   \n",
    "    # calculate the eignvalues and eignvectors\n",
    "    evals, evecs = la.eigh(cov_matrix)\n",
    "\n",
    "    # sort them\n",
    "    idx = np.argsort(evals)[::-1]\n",
    "\n",
    "    # Each columns of this matrix is an eingvector\n",
    "    evecs = evecs[:,idx]\n",
    "    evals = evals[idx]\n",
    "\n",
    "    # explained variance\n",
    "    variance_retained=np.cumsum(evals)/np.sum(evals)\n",
    "\n",
    "    # calculate the transformed data\n",
    "    data_transformed=np.dot(evecs.T, data_centered.T).T\n",
    "\n",
    "    # randomize eignvectors\n",
    "    new_evecs = evecs.copy().T\n",
    "    for i in range(len(new_evecs)):\n",
    "        np.random.shuffle(new_evecs[i])\n",
    "    new_evecs = np.array(new_evecs).T\n",
    "\n",
    "    # go back to the original dimension\n",
    "    data_original_dimension = np.dot(data_transformed, new_evecs.T) \n",
    "    data_original_dimension += mean\n",
    "\n",
    "    return data_original_dimension"
   ]
  },
  {
   "cell_type": "markdown",
   "metadata": {},
   "source": [
    "### Clusterization Algorithms\n"
   ]
  },
  {
   "cell_type": "code",
   "execution_count": null,
   "metadata": {},
   "outputs": [],
   "source": [
    "def find_clusters(X, k):   \n",
    "    Kmean = KMeans(n_clusters=k)\n",
    "    Kmean.fit(X)\n",
    "    return Kmean.labels_"
   ]
  },
  {
   "cell_type": "markdown",
   "metadata": {},
   "source": [
    "### Anonymization with Clustering and Synthetic Data Generation"
   ]
  },
  {
   "cell_type": "code",
   "execution_count": null,
   "metadata": {},
   "outputs": [],
   "source": [
    "def anonimization_clustering(data, y, k):\n",
    "    # generate K data clusters\n",
    "    clusters = find_clusters(data, k)\n",
    "\n",
    "    # bucketize the index of each cluster\n",
    "    indices = dict()\n",
    "    for i in range(len(clusters)):\n",
    "        if clusters[i] not in indices.keys():\n",
    "            indices[ clusters[i] ] = []    \n",
    "        indices[ clusters[i] ].append(i)\n",
    "\n",
    "    data_anonymized, y_in_new_order = None, None\n",
    "\n",
    "    # anonymize each cluster individually\n",
    "    for k in indices.keys():\n",
    "        if data_anonymized is None and y_in_new_order is None:\n",
    "            data_anonymized = anonimization(data[ indices[k] ])\n",
    "            y_in_new_order = y[ indices[k] ]\n",
    "            empty_flag = False\n",
    "        else:\n",
    "            data_anonymized = np.concatenate((data_anonymized, anonimization(data[ indices[k] ]) ), axis=0)\n",
    "            y_in_new_order = np.concatenate((y_in_new_order, y[ indices[k] ]), axis=0)\n",
    "\n",
    "    # data_anonymized = np.concatenate((data_anonymized, np.array([y_in_new_order]).T), axis=1)\n",
    "    # print(pd.DataFrame(data_anonymized))\n",
    "\n",
    "    return data_anonymized, y_in_new_order"
   ]
  },
  {
   "cell_type": "markdown",
   "metadata": {},
   "source": [
    "### Cross Validation with K-fold"
   ]
  },
  {
   "cell_type": "code",
   "execution_count": null,
   "metadata": {},
   "outputs": [],
   "source": [
    "def cross_validate_k_fold(X, y, anon_training, anon_test, model, model_name, n_clusters):\n",
    "    kf = StratifiedKFold(n_splits=3)\n",
    "    scaler = StandardScaler()\n",
    "\n",
    "    accuracy, precision, recall, f1 = [], [], [], []\n",
    "\n",
    "    for train_index, test_index in kf.split(X, y):\n",
    "        X_train, X_test = X[train_index], X[test_index]\n",
    "        y_train, y_test = y[train_index], y[test_index]\n",
    "\n",
    "        if anon_training == True:\n",
    "            X_train, y_train = anonimization_clustering(X_train, y_train, n_clusters)\n",
    "\n",
    "        if anon_test == True:\n",
    "            X_test, y_test = anonimization_clustering(X_test, y_test, n_clusters)\n",
    "\n",
    "        scaler.fit(X_train)\n",
    "        scaler.fit(X_test)\n",
    "            \n",
    "        model.fit(X_train,y_train)\n",
    "\n",
    "        y_pred = model.predict(X_test)\n",
    "\n",
    "        accuracy.append(accuracy_score(y_test, y_pred))\n",
    "        precision.append(precision_score(y_test, y_pred))\n",
    "        recall.append(recall_score(y_test, y_pred))\n",
    "        f1.append(f1_score(y_test, y_pred))\n",
    "\n",
    "    results = {'accuracy' : np.array(accuracy), \n",
    "           'precision' : np.array(precision),\n",
    "           'recall' : np.array(recall), \n",
    "           'f1_score' : np.array(f1)}\n",
    "\n",
    "    print(model_name, anon_training, anon_test)\n",
    "    for k in results.keys():\n",
    "        if k != 'fit_time' and k != 'score_time':\n",
    "            print(k, '---> mean:', results[k].mean(), ' |  std:', results[k].std())\n",
    "\n",
    "    return [ anon_training, anon_test, results['accuracy'].mean(), results['precision'].mean(), results['recall'].mean(), results['f1_score'].mean() ]"
   ]
  },
  {
   "cell_type": "markdown",
   "metadata": {},
   "source": [
    "### Read data"
   ]
  },
  {
   "cell_type": "code",
   "execution_count": null,
   "metadata": {},
   "outputs": [],
   "source": [
    "dataset = pd.read_csv('df_original_100000.csv')\n",
    "# dataset = pd.DataFrame([[71, 29, 33, 1], [75, 19, 43, 1], [7, 9, 3, 1], [13, 21, 7, 0], [3, 2, 17, 1]])\n",
    "# dataset.columns = ['A', 'B', 'C', 'Label']\n",
    "# print(dataset)\n",
    "# dataset = anonimization(dataset)\n",
    "\n",
    "print(dataset)\n",
    "\n",
    "y = np.array(dataset['Label'])\n",
    "del dataset['Label']\n",
    "X = np.array(dataset)\n",
    "\n",
    "print(X.shape)"
   ]
  },
  {
   "cell_type": "markdown",
   "metadata": {},
   "source": [
    "### Generate the results for a given model"
   ]
  },
  {
   "cell_type": "code",
   "execution_count": null,
   "metadata": {},
   "outputs": [],
   "source": [
    "def get_results(model, X, y, model_name, n_clusters):\n",
    "    bol = [True, False]\n",
    "    results = pd.DataFrame(columns=['anonymized train', 'anonymized test' , 'accuracy', 'precision', 'recall', 'f1_score'])\n",
    "    for i in range(0, 2):\n",
    "        for j in range(0, 2):\n",
    "            new_df = pd.DataFrame([cross_validate_k_fold(X, y, bol[i], bol[j], model, model_name, n_clusters)], columns=results.columns)\n",
    "            results = pd.concat([results, new_df], ignore_index=True)\n",
    "\n",
    "    for i in range(2, len(results.columns)):\n",
    "        col_name = results.columns[i]\n",
    "        results[col_name] = results[col_name].apply(lambda row:\"{:.3%}\".format(float(row)))\n",
    "\n",
    "    return results"
   ]
  },
  {
   "cell_type": "markdown",
   "metadata": {},
   "source": [
    "### 3-anonymity model"
   ]
  },
  {
   "cell_type": "code",
   "execution_count": null,
   "metadata": {},
   "outputs": [],
   "source": [
    "results_knn = get_results(KNeighborsClassifier(n_neighbors=5), X, y, 'KNN', 3)\n",
    "results_knn"
   ]
  },
  {
   "cell_type": "code",
   "execution_count": null,
   "metadata": {},
   "outputs": [],
   "source": [
    "results_dtree = get_results(DecisionTreeClassifier(), X, y, 'Decision Tree', 3)\n",
    "results_dtree"
   ]
  },
  {
   "cell_type": "code",
   "execution_count": null,
   "metadata": {},
   "outputs": [],
   "source": [
    "results_rfc = get_results(RandomForestClassifier(n_estimators=100), X, y, 'Random Forest', 3)\n",
    "results_rfc"
   ]
  },
  {
   "cell_type": "code",
   "execution_count": null,
   "metadata": {},
   "outputs": [],
   "source": [
    "results_gnb = get_results(GaussianNB(var_smoothing=1e-02), X, y, 'GaussianNB', 3)\n",
    "results_gnb"
   ]
  },
  {
   "cell_type": "code",
   "execution_count": null,
   "metadata": {},
   "outputs": [],
   "source": [
    "results_knn.insert(0, \"model\", ['KNN', 'KNN', 'KNN', 'KNN'], True)\n",
    "results_dtree.insert(0, \"model\", ['Decision Tree', 'Decision Tree', 'Decision Tree', 'Decision Tree'], True)\n",
    "results_rfc.insert(0, \"model\", ['Random Forest', 'Random Forest', 'Random Forest', 'Random Forest'], True)\n",
    "results_gnb.insert(0, \"model\", ['Gaussian NB', 'Gaussian NB', 'Gaussian NB', 'Gaussian NB'], True)\n"
   ]
  },
  {
   "cell_type": "code",
   "execution_count": null,
   "metadata": {},
   "outputs": [],
   "source": [
    "results = pd.DataFrame(columns=['model', 'anonymized train', 'anonymized test' , 'accuracy', 'precision', 'recall', 'f1_score'])\n",
    "\n",
    "results = pd.concat([results, results_knn], ignore_index=True)\n",
    "results = pd.concat([results, results_dtree], ignore_index=True)\n",
    "results = pd.concat([results, results_rfc], ignore_index=True)\n",
    "results = pd.concat([results, results_gnb], ignore_index=True)"
   ]
  },
  {
   "cell_type": "code",
   "execution_count": null,
   "metadata": {},
   "outputs": [],
   "source": [
    "results"
   ]
  },
  {
   "cell_type": "markdown",
   "metadata": {},
   "source": [
    "### Generate the K-anonymity model for each k in the set {3, 5, 7, 9}"
   ]
  },
  {
   "cell_type": "code",
   "execution_count": null,
   "metadata": {},
   "outputs": [],
   "source": [
    "x = []\n",
    "\n",
    "def process(k):\n",
    "    knn_resul = get_results(KNeighborsClassifier(n_neighbors=k), X, y, 'KNN', k)\n",
    "    dtree_resul = get_results(DecisionTreeClassifier(), X, y, 'Decision Tree', k)\n",
    "    rfc_resul = get_results(RandomForestClassifier(n_estimators=100), X, y, 'Random Forest', k)\n",
    "    gnb_resul = get_results(GaussianNB(var_smoothing=1e-02), X, y, 'GaussianNB', k)\n",
    "    return [ knn_resul, dtree_resul, rfc_resul, gnb_resul ]\n",
    "\n",
    "\n",
    "results = Parallel(n_jobs=10)(delayed(process)(k) for k in range(3, 10, 2))\n",
    "\n",
    "for k in range(3, 10, 2):\n",
    "    x.append(k)"
   ]
  },
  {
   "cell_type": "markdown",
   "metadata": {},
   "source": [
    "### Save the results in a file"
   ]
  },
  {
   "cell_type": "code",
   "execution_count": null,
   "metadata": {},
   "outputs": [],
   "source": [
    "res_np = np.array(results)\n",
    "np.save(\"results_01.npy\", res_np)"
   ]
  },
  {
   "cell_type": "markdown",
   "metadata": {},
   "source": [
    "### Read the results from a file"
   ]
  },
  {
   "cell_type": "code",
   "execution_count": 21,
   "metadata": {},
   "outputs": [],
   "source": [
    "results = np.load(\"results.npy\", allow_pickle=True)"
   ]
  },
  {
   "cell_type": "markdown",
   "metadata": {},
   "source": [
    "### Plot the results"
   ]
  },
  {
   "cell_type": "code",
   "execution_count": null,
   "metadata": {},
   "outputs": [],
   "source": [
    "def plot_resul(results, x):\n",
    "    # color = ['chartreuse', 'orange', 'firebrick', 'blue']\n",
    "    color = {'KNN': 'chartreuse', 'GaussianNB': 'blue', 'Decision Tree': 'firebrick', 'Random Forest': 'orange'}\n",
    "    # marker = ['^', '*', '.', 'o']\n",
    "    marker = {'KNN': 'o', 'GaussianNB': '.', 'Decision Tree': '*', 'Random Forest': '^'}\n",
    "\n",
    "    for key in results.keys():\n",
    "        y = []\n",
    "        for i in range(len(results[key])):\n",
    "            y.append(float(results[key][i][0:len(results[key][i])-1]))\n",
    "        print(key, y)\n",
    "        plt.plot(x, y, color=color[key], marker=marker[key], label=key)\n",
    "\n",
    "    plt.xticks(x)\n",
    "    plt.ylabel('Accuracy')\n",
    "    plt.xlabel('K of K-Anonymity')\n",
    "    plt.title('Results')\n",
    "    plt.legend()\n",
    "    # plt.show()\n",
    "    plt.savefig('k_by_accuracy' + '.pdf')"
   ]
  },
  {
   "cell_type": "markdown",
   "metadata": {},
   "source": [
    "### Process the data to plot the results"
   ]
  },
  {
   "cell_type": "code",
   "execution_count": 27,
   "metadata": {},
   "outputs": [],
   "source": [
    "# split all data and plot the results"
   ]
  },
  {
   "cell_type": "code",
   "execution_count": null,
   "metadata": {},
   "outputs": [],
   "source": []
  }
 ],
 "metadata": {
  "kernelspec": {
   "display_name": "Python 3.9.13 64-bit",
   "language": "python",
   "name": "python3"
  },
  "language_info": {
   "codemirror_mode": {
    "name": "ipython",
    "version": 3
   },
   "file_extension": ".py",
   "mimetype": "text/x-python",
   "name": "python",
   "nbconvert_exporter": "python",
   "pygments_lexer": "ipython3",
   "version": "3.10.6"
  },
  "orig_nbformat": 4,
  "vscode": {
   "interpreter": {
    "hash": "b0fa6594d8f4cbf19f97940f81e996739fb7646882a419484c72d19e05852a7e"
   }
  }
 },
 "nbformat": 4,
 "nbformat_minor": 2
}
