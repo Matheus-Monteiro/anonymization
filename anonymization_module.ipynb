{
 "cells": [
  {
   "cell_type": "code",
   "execution_count": 2,
   "id": "3f1883af",
   "metadata": {},
   "outputs": [
    {
     "ename": "ModuleNotFoundError",
     "evalue": "No module named 'anonympy.pandas.utils'",
     "output_type": "error",
     "traceback": [
      "\u001b[0;31m---------------------------------------------------------------------------\u001b[0m",
      "\u001b[0;31mModuleNotFoundError\u001b[0m                       Traceback (most recent call last)",
      "Input \u001b[0;32mIn [2]\u001b[0m, in \u001b[0;36m<cell line: 4>\u001b[0;34m()\u001b[0m\n\u001b[1;32m      2\u001b[0m \u001b[38;5;28;01mimport\u001b[39;00m \u001b[38;5;21;01mpandas\u001b[39;00m \u001b[38;5;28;01mas\u001b[39;00m \u001b[38;5;21;01mpd\u001b[39;00m\n\u001b[1;32m      3\u001b[0m \u001b[38;5;28;01mfrom\u001b[39;00m \u001b[38;5;21;01manonympy\u001b[39;00m\u001b[38;5;21;01m.\u001b[39;00m\u001b[38;5;21;01mpandas\u001b[39;00m \u001b[38;5;28;01mimport\u001b[39;00m dfAnonymizer \n\u001b[0;32m----> 4\u001b[0m \u001b[38;5;28;01mfrom\u001b[39;00m \u001b[38;5;21;01manonympy\u001b[39;00m\u001b[38;5;21;01m.\u001b[39;00m\u001b[38;5;21;01mpandas\u001b[39;00m\u001b[38;5;21;01m.\u001b[39;00m\u001b[38;5;21;01mutils\u001b[39;00m \u001b[38;5;28;01mimport\u001b[39;00m available_methods\n",
      "\u001b[0;31mModuleNotFoundError\u001b[0m: No module named 'anonympy.pandas.utils'"
     ]
    }
   ],
   "source": [
    "# import tqdm\n",
    "import pandas as pd\n",
    "from anonympy.pandas import dfAnonymizer \n",
    "from anonympy.pandas.utils import available_methods"
   ]
  },
  {
   "cell_type": "code",
   "execution_count": null,
   "id": "32b5b4f2",
   "metadata": {},
   "outputs": [],
   "source": [
    "url = r'https://raw.githubusercontent.com/ArtLabss/open-data-anonimizer/0287f675a535101f145cb975baf361a96ff71ed3/examples/files/new.csv'\n",
    "df = pd.read_csv(url, parse_dates=['birthdate'])\n",
    "df.head()"
   ]
  },
  {
   "cell_type": "code",
   "execution_count": null,
   "id": "0610c23f",
   "metadata": {},
   "outputs": [],
   "source": [
    "anonym = dfAnonymizer(df)"
   ]
  },
  {
   "cell_type": "code",
   "execution_count": null,
   "id": "c75ba9e9",
   "metadata": {},
   "outputs": [],
   "source": [
    "print('Numeric columns', anonym.numeric_columns)\n",
    "print('Categorical columns', anonym.categorical_columns)\n",
    "print('Date columns', anonym.datetime_columns)"
   ]
  },
  {
   "cell_type": "code",
   "execution_count": null,
   "id": "13977cd3",
   "metadata": {},
   "outputs": [],
   "source": [
    "available_methods()"
   ]
  },
  {
   "cell_type": "code",
   "execution_count": null,
   "id": "8cdeff89",
   "metadata": {},
   "outputs": [],
   "source": []
  }
 ],
 "metadata": {
  "kernelspec": {
   "display_name": "Python 3.9.13 ('api-mpw7HA73')",
   "language": "python",
   "name": "python3"
  },
  "language_info": {
   "codemirror_mode": {
    "name": "ipython",
    "version": 3
   },
   "file_extension": ".py",
   "mimetype": "text/x-python",
   "name": "python",
   "nbconvert_exporter": "python",
   "pygments_lexer": "ipython3",
   "version": "3.9.13"
  },
  "vscode": {
   "interpreter": {
    "hash": "285d01218279beb77cb1045b354dd4532356bde69b30b62699e2e6e83fa5f16c"
   }
  }
 },
 "nbformat": 4,
 "nbformat_minor": 5
}
